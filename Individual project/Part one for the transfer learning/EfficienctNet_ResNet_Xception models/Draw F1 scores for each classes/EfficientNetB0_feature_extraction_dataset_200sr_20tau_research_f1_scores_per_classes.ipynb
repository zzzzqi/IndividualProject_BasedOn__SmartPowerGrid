{
  "nbformat": 4,
  "nbformat_minor": 0,
  "metadata": {
    "colab": {
      "provenance": []
    },
    "kernelspec": {
      "name": "python3",
      "display_name": "Python 3"
    },
    "language_info": {
      "name": "python"
    },
    "accelerator": "GPU",
    "gpuClass": "standard"
  },
  "cells": [
    {
      "cell_type": "code",
      "source": [
        "from google.colab import drive\n",
        "drive.mount('/content/drive')"
      ],
      "metadata": {
        "colab": {
          "base_uri": "https://localhost:8080/"
        },
        "id": "5m9R4aW5v5LH",
        "outputId": "09e1c4a3-227d-4483-cdf7-c98c7d2fce2a"
      },
      "execution_count": null,
      "outputs": [
        {
          "output_type": "stream",
          "name": "stdout",
          "text": [
            "Drive already mounted at /content/drive; to attempt to forcibly remount, call drive.mount(\"/content/drive\", force_remount=True).\n"
          ]
        }
      ]
    },
    {
      "cell_type": "code",
      "source": [
        "# Load the already trained 200sr_20tau baseline model.\n",
        "import tensorflow as tf\n",
        "loaded_model = tf.keras.models.load_model(\"/content/drive/MyDrive/EfficientNet&Resnet_saved_models_without_fine_tuning/dataset_200sr_20tau\")"
      ],
      "metadata": {
        "id": "vGZ5a1tPxCn_"
      },
      "execution_count": null,
      "outputs": []
    },
    {
      "cell_type": "code",
      "source": [
        "# Prepare dataset\n",
        "train_dir = \"/content/drive/MyDrive/dataset_Transfer_learning(20tau)/dataset_200sr_20tau/training_set\"\n",
        "test_dir = \"/content/drive/MyDrive/dataset_Transfer_learning(20tau)/dataset_200sr_20tau/testing_set\"\n",
        "group_validation_dataset_dir = \"/content/drive/MyDrive/target_dataset_10_classes(Jasper)\""
      ],
      "metadata": {
        "id": "ehZ2ildcKnUn"
      },
      "execution_count": null,
      "outputs": []
    },
    {
      "cell_type": "code",
      "source": [
        "# Setup data inputs\n",
        "import tensorflow as tf\n",
        "IMG_SIZE = (224, 224)\n",
        "train_data_all_10_percent = tf.keras.preprocessing.image_dataset_from_directory(train_dir,\n",
        "                                        label_mode=\"categorical\",\n",
        "                                        image_size=IMG_SIZE)\n",
        "                                                                                \n",
        "test_data = tf.keras.preprocessing.image_dataset_from_directory(test_dir,\n",
        "                                label_mode=\"categorical\",\n",
        "                                image_size=IMG_SIZE,\n",
        "                                shuffle=False)\n",
        "\n",
        "group_validation_dataset = tf.keras.preprocessing.image_dataset_from_directory(group_validation_dataset_dir,\n",
        "                                label_mode=\"categorical\",\n",
        "                                image_size=IMG_SIZE,\n",
        "                                shuffle=False) # don't shuffle test data for prediction analysis,such as f1 scores."
      ],
      "metadata": {
        "colab": {
          "base_uri": "https://localhost:8080/"
        },
        "id": "PBJ1pU9Sxh5X",
        "outputId": "282769c7-58b0-4945-c189-e83ac406b214"
      },
      "execution_count": null,
      "outputs": [
        {
          "output_type": "stream",
          "name": "stdout",
          "text": [
            "Found 600 files belonging to 10 classes.\n",
            "Found 2000 files belonging to 10 classes.\n",
            "Found 3000 files belonging to 10 classes.\n"
          ]
        }
      ]
    },
    {
      "cell_type": "code",
      "source": [
        "# Evaluate loaded model.\n",
        "loaded_models_results = loaded_model.evaluate(test_data)\n",
        "loaded_models_results"
      ],
      "metadata": {
        "colab": {
          "base_uri": "https://localhost:8080/"
        },
        "id": "-sOeaVk1xx3P",
        "outputId": "393ab343-380c-481c-e5e7-03e214847af8"
      },
      "execution_count": null,
      "outputs": [
        {
          "output_type": "stream",
          "name": "stdout",
          "text": [
            "63/63 [==============================] - 215s 3s/step - loss: 0.3976 - accuracy: 0.9055\n"
          ]
        },
        {
          "output_type": "execute_result",
          "data": {
            "text/plain": [
              "[0.3976230025291443, 0.9054999947547913]"
            ]
          },
          "metadata": {},
          "execution_count": 8
        }
      ]
    },
    {
      "cell_type": "code",
      "source": [
        "model = loaded_model"
      ],
      "metadata": {
        "id": "qAPmFFKOz6o5"
      },
      "execution_count": null,
      "outputs": []
    },
    {
      "cell_type": "code",
      "source": [
        "# Make predictions with model\n",
        "pred_probs = model.predict(group_validation_dataset, verbose=1) # set verbosity to see how long it will take "
      ],
      "metadata": {
        "colab": {
          "base_uri": "https://localhost:8080/"
        },
        "id": "xFNWC1DOUB0G",
        "outputId": "edf21bed-ab1b-4cb9-de5c-b48741e6bfbc"
      },
      "execution_count": null,
      "outputs": [
        {
          "output_type": "stream",
          "name": "stdout",
          "text": [
            "94/94 [==============================] - 340s 4s/step\n"
          ]
        }
      ]
    },
    {
      "cell_type": "code",
      "source": [
        "# Get the class predicitons of each label\n",
        "pred_classes = pred_probs.argmax(axis=1)\n",
        "\n",
        "# How do they look?\n",
        "pred_classes[:10]"
      ],
      "metadata": {
        "colab": {
          "base_uri": "https://localhost:8080/"
        },
        "id": "gCYeIj6OVB_i",
        "outputId": "8acff333-0f55-456d-efe6-23b8396d8177"
      },
      "execution_count": null,
      "outputs": [
        {
          "output_type": "execute_result",
          "data": {
            "text/plain": [
              "array([0, 0, 0, 0, 0, 0, 0, 0, 5, 0])"
            ]
          },
          "metadata": {},
          "execution_count": 12
        }
      ]
    },
    {
      "cell_type": "code",
      "source": [
        "# To get the test dataset labels we can unravel our test_data object (which is in the form of a tf.data.Dataset) using the unbatch() method.\n",
        "y_labels = []\n",
        "for images, labels in group_validation_dataset.unbatch(): # unbatch the group validation dataset and get images and labels\n",
        "  y_labels.append(labels.numpy().argmax()) # append the index which has the largest value (labels are one-hot)\n",
        "y_labels[:10] # check what they look like (unshuffled)"
      ],
      "metadata": {
        "colab": {
          "base_uri": "https://localhost:8080/"
        },
        "id": "HYyZjeFNVIaQ",
        "outputId": "6487237b-9d8e-4652-bda2-871dc98467bf"
      },
      "execution_count": null,
      "outputs": [
        {
          "output_type": "execute_result",
          "data": {
            "text/plain": [
              "[0, 0, 0, 0, 0, 0, 0, 0, 0, 0]"
            ]
          },
          "metadata": {},
          "execution_count": 13
        }
      ]
    },
    {
      "cell_type": "code",
      "source": [
        "# How many labels are there? (should be the same as how many prediction probabilities we have)\n",
        "len(y_labels)"
      ],
      "metadata": {
        "colab": {
          "base_uri": "https://localhost:8080/"
        },
        "id": "tlxSc9yTVWEG",
        "outputId": "56d97dd1-a3d7-4e5f-fcd1-a0413d0639d6"
      },
      "execution_count": null,
      "outputs": [
        {
          "output_type": "execute_result",
          "data": {
            "text/plain": [
              "3000"
            ]
          },
          "metadata": {},
          "execution_count": 14
        }
      ]
    },
    {
      "cell_type": "code",
      "source": [
        "# The following confusion matrix code is a remix of Scikit-Learn's plot_confusion_matrix function.\n",
        "# https://scikit-learn.org/stable/modules/generated/sklearn.metrics.plot_confusion_matrix.html\n",
        "import itertools\n",
        "import matplotlib.pyplot as plt\n",
        "import numpy as np\n",
        "from sklearn.metrics import confusion_matrix\n",
        "\n",
        "# Our function needs a different name to sklearn's plot_confusion_matrix\n",
        "def make_confusion_matrix(y_true, y_pred, classes=None, figsize=(10, 10), text_size=15, norm=False, savefig=False): \n",
        "  \"\"\"Makes a labelled confusion matrix comparing predictions and ground truth labels.\n",
        "\n",
        "  If classes is passed, confusion matrix will be labelled, if not, integer class values\n",
        "  will be used.\n",
        "\n",
        "  Args:\n",
        "    y_true: Array of truth labels (must be same shape as y_pred).\n",
        "    y_pred: Array of predicted labels (must be same shape as y_true).\n",
        "    classes: Array of class labels (e.g. string form). If `None`, integer labels are used.\n",
        "    figsize: Size of output figure (default=(10, 10)).\n",
        "    text_size: Size of output figure text (default=15).\n",
        "    norm: normalize values or not (default=False).\n",
        "    savefig: save confusion matrix to file (default=False).\n",
        "  \n",
        "  Returns:\n",
        "    A labelled confusion matrix plot comparing y_true and y_pred.\n",
        "\n",
        "  Example usage:\n",
        "    make_confusion_matrix(y_true=test_labels, # ground truth test labels\n",
        "                          y_pred=y_preds, # predicted labels\n",
        "                          classes=class_names, # array of class label names\n",
        "                          figsize=(15, 15),\n",
        "                          text_size=10)\n",
        "  \"\"\"  \n",
        "  # Create the confustion matrix\n",
        "  cm = confusion_matrix(y_true, y_pred)\n",
        "  cm_norm = cm.astype(\"float\") / cm.sum(axis=1)[:, np.newaxis] # normalize it\n",
        "  n_classes = cm.shape[0] # find the number of classes we're dealing with\n",
        "\n",
        "  \n",
        "  # Plot the figure and make it pretty\n",
        "  fig, ax = plt.subplots(figsize=figsize)\n",
        "  cax = ax.matshow(cm, cmap=plt.cm.Blues) # colors will represent how 'correct' a class is, darker == better\n",
        "  fig.colorbar(cax)\n",
        "\n",
        "  # Are there a list of classes?\n",
        "  if classes:\n",
        "    labels = classes\n",
        "  else:\n",
        "    labels = np.arange(cm.shape[0])\n",
        "  \n",
        "  # Label the axes\n",
        "  ax.set(title=\"Confusion Matrix\",\n",
        "         xlabel=\"Predicted label\",\n",
        "         ylabel=\"True label\",\n",
        "         xticks=np.arange(n_classes), # create enough axis slots for each class\n",
        "         yticks=np.arange(n_classes), \n",
        "         xticklabels=labels, # axes will labeled with class names (if they exist) or ints\n",
        "         yticklabels=labels)\n",
        "  \n",
        "  # Make x-axis labels appear on bottom\n",
        "  ax.xaxis.set_label_position(\"bottom\")\n",
        "  ax.xaxis.tick_bottom()\n",
        "\n",
        "  ### Added: Rotate xticks for readability & increase font size (required due to such a large confusion matrix)\n",
        "  plt.xticks(rotation=70, fontsize=text_size)\n",
        "  plt.yticks(fontsize=text_size)\n",
        "\n",
        "  # Set the threshold for different colors\n",
        "  threshold = (cm.max() + cm.min()) / 2.\n",
        "\n",
        "  # Plot the text on each cell\n",
        "  for i, j in itertools.product(range(cm.shape[0]), range(cm.shape[1])):\n",
        "    if norm:\n",
        "      plt.text(j, i, f\"{cm[i, j]} ({cm_norm[i, j]*100:.1f}%)\",\n",
        "              horizontalalignment=\"center\",\n",
        "              color=\"white\" if cm[i, j] > threshold else \"black\",\n",
        "              size=text_size)\n",
        "    else:\n",
        "      plt.text(j, i, f\"{cm[i, j]}\",\n",
        "              horizontalalignment=\"center\",\n",
        "              color=\"white\" if cm[i, j] > threshold else \"black\",\n",
        "              size=text_size)\n",
        "\n",
        "  # Save the figure to the current working directory\n",
        "  if savefig:\n",
        "    fig.savefig(\"confusion_matrix.png\")"
      ],
      "metadata": {
        "id": "igvDJEVvBO-V"
      },
      "execution_count": null,
      "outputs": []
    },
    {
      "cell_type": "code",
      "source": [
        "# Get the class names\n",
        "class_names = group_validation_dataset.class_names\n",
        "class_names"
      ],
      "metadata": {
        "colab": {
          "base_uri": "https://localhost:8080/"
        },
        "id": "_wdVlj-pVpai",
        "outputId": "7d4c7e41-1384-4229-cca8-6573544e5687"
      },
      "execution_count": null,
      "outputs": [
        {
          "output_type": "execute_result",
          "data": {
            "text/plain": [
              "['flickers',\n",
              " 'harmonics',\n",
              " 'interruptions',\n",
              " 'interruptions_harmonics',\n",
              " 'osc_transients',\n",
              " 'sags',\n",
              " 'sags_harmonics',\n",
              " 'spikes',\n",
              " 'swells',\n",
              " 'swells_harmonics']"
            ]
          },
          "metadata": {},
          "execution_count": 16
        }
      ]
    },
    {
      "cell_type": "code",
      "source": [
        "# Plot a confusion matrix with all 25250 predictions, ground truth labels and 101 classes\n",
        "make_confusion_matrix(y_true=y_labels,\n",
        "          y_pred=pred_classes,\n",
        "          classes=class_names,\n",
        "          figsize=(10, 10),\n",
        "          text_size=10,\n",
        "          norm=False,\n",
        "          savefig=True)"
      ],
      "metadata": {
        "colab": {
          "base_uri": "https://localhost:8080/",
          "height": 665
        },
        "id": "Q81_7v4pVp3K",
        "outputId": "70242369-db10-48af-ae59-b8849c1b5013"
      },
      "execution_count": null,
      "outputs": [
        {
          "output_type": "display_data",
          "data": {
            "text/plain": [
              "<Figure size 720x720 with 2 Axes>"
            ],
            "image/png": "[encoded data removed]"
          },
          "metadata": {
            "needs_background": "light"
          }
        }
      ]
    },
    {
      "cell_type": "code",
      "source": [
        "# Check f1 scores of the model.\n",
        "from sklearn.metrics import classification_report\n",
        "classification_report_dict = classification_report(y_labels, pred_classes, output_dict=True)\n",
        "classification_report_dict"
      ],
      "metadata": {
        "colab": {
          "base_uri": "https://localhost:8080/"
        },
        "id": "pqvSffV32CSc",
        "outputId": "b704d4f2-2a5c-4ad7-9f13-6acacb8b0b48"
      },
      "execution_count": null,
      "outputs": [
        {
          "output_type": "execute_result",
          "data": {
            "text/plain": [
              "{'0': {'precision': 0.9306930693069307,\n",
              "  'recall': 0.94,\n",
              "  'f1-score': 0.9353233830845772,\n",
              "  'support': 300},\n",
              " '1': {'precision': 0.8204225352112676,\n",
              "  'recall': 0.7766666666666666,\n",
              "  'f1-score': 0.797945205479452,\n",
              "  'support': 300},\n",
              " '2': {'precision': 0.9170731707317074,\n",
              "  'recall': 0.6266666666666667,\n",
              "  'f1-score': 0.7445544554455445,\n",
              "  'support': 300},\n",
              " '3': {'precision': 0.806930693069307,\n",
              "  'recall': 0.5433333333333333,\n",
              "  'f1-score': 0.6494023904382471,\n",
              "  'support': 300},\n",
              " '4': {'precision': 0.855072463768116,\n",
              "  'recall': 0.9833333333333333,\n",
              "  'f1-score': 0.9147286821705427,\n",
              "  'support': 300},\n",
              " '5': {'precision': 0.7214484679665738,\n",
              "  'recall': 0.8633333333333333,\n",
              "  'f1-score': 0.7860394537177542,\n",
              "  'support': 300},\n",
              " '6': {'precision': 0.6128266033254157,\n",
              "  'recall': 0.86,\n",
              "  'f1-score': 0.7156726768377254,\n",
              "  'support': 300},\n",
              " '7': {'precision': 0.6919431279620853,\n",
              "  'recall': 0.9733333333333334,\n",
              "  'f1-score': 0.8088642659279779,\n",
              "  'support': 300},\n",
              " '8': {'precision': 1.0,\n",
              "  'recall': 0.7333333333333333,\n",
              "  'f1-score': 0.846153846153846,\n",
              "  'support': 300},\n",
              " '9': {'precision': 0.9581589958158996,\n",
              "  'recall': 0.7633333333333333,\n",
              "  'f1-score': 0.8497217068645639,\n",
              "  'support': 300},\n",
              " 'accuracy': 0.8063333333333333,\n",
              " 'macro avg': {'precision': 0.8314569127157304,\n",
              "  'recall': 0.8063333333333332,\n",
              "  'f1-score': 0.8048406066120231,\n",
              "  'support': 3000},\n",
              " 'weighted avg': {'precision': 0.8314569127157302,\n",
              "  'recall': 0.8063333333333333,\n",
              "  'f1-score': 0.8048406066120232,\n",
              "  'support': 3000}}"
            ]
          },
          "metadata": {},
          "execution_count": 20
        }
      ]
    },
    {
      "cell_type": "code",
      "source": [
        "# Create empty dictionary\n",
        "class_f1_scores = {}\n",
        "# Loop through classification report items\n",
        "for k, v in classification_report_dict.items():\n",
        "  if k == \"accuracy\": # stop once we get to accuracy key\n",
        "    break\n",
        "  else:\n",
        "    # Append class names and f1-scores to new dictionary\n",
        "    class_f1_scores[class_names[int(k)]] = v[\"f1-score\"]\n",
        "class_f1_scores"
      ],
      "metadata": {
        "colab": {
          "base_uri": "https://localhost:8080/"
        },
        "id": "FgGbkRVS10S_",
        "outputId": "899b24f8-1f23-4f9e-de5e-aa03899ba6df"
      },
      "execution_count": null,
      "outputs": [
        {
          "output_type": "execute_result",
          "data": {
            "text/plain": [
              "{'flickers': 0.9353233830845772,\n",
              " 'harmonics': 0.797945205479452,\n",
              " 'interruptions': 0.7445544554455445,\n",
              " 'interruptions_harmonics': 0.6494023904382471,\n",
              " 'osc_transients': 0.9147286821705427,\n",
              " 'sags': 0.7860394537177542,\n",
              " 'sags_harmonics': 0.7156726768377254,\n",
              " 'spikes': 0.8088642659279779,\n",
              " 'swells': 0.846153846153846,\n",
              " 'swells_harmonics': 0.8497217068645639}"
            ]
          },
          "metadata": {},
          "execution_count": 19
        }
      ]
    },
    {
      "cell_type": "code",
      "source": [
        "# Turn f1-scores into dataframe for visualization\n",
        "import pandas as pd\n",
        "f1_scores = pd.DataFrame({\"class_name\": list(class_f1_scores.keys()),\n",
        "              \"f1-score\": list(class_f1_scores.values())}).sort_values(\"f1-score\", ascending=False)\n",
        "f1_scores"
      ],
      "metadata": {
        "colab": {
          "base_uri": "https://localhost:8080/",
          "height": 363
        },
        "id": "VbGbuwvA227r",
        "outputId": "49c3f362-ca05-4780-99a9-83be9fb5973c"
      },
      "execution_count": null,
      "outputs": [
        {
          "output_type": "execute_result",
          "data": {
            "text/plain": [
              "                class_name  f1-score\n",
              "0                 flickers  0.935323\n",
              "4           osc_transients  0.914729\n",
              "9         swells_harmonics  0.849722\n",
              "8                   swells  0.846154\n",
              "7                   spikes  0.808864\n",
              "1                harmonics  0.797945\n",
              "5                     sags  0.786039\n",
              "2            interruptions  0.744554\n",
              "6           sags_harmonics  0.715673\n",
              "3  interruptions_harmonics  0.649402"
            ],
            "text/html": [
              "\n",
              "  <div id=\"df-32311e6c-5eec-45da-a5c8-9b5d571f8570\">\n",
              "    <div class=\"colab-df-container\">\n",
              "      <div>\n",
              "<style scoped>\n",
              "    .dataframe tbody tr th:only-of-type {\n",
              "        vertical-align: middle;\n",
              "    }\n",
              "\n",
              "    .dataframe tbody tr th {\n",
              "        vertical-align: top;\n",
              "    }\n",
              "\n",
              "    .dataframe thead th {\n",
              "        text-align: right;\n",
              "    }\n",
              "</style>\n",
              "<table border=\"1\" class=\"dataframe\">\n",
              "  <thead>\n",
              "    <tr style=\"text-align: right;\">\n",
              "      <th></th>\n",
              "      <th>class_name</th>\n",
              "      <th>f1-score</th>\n",
              "    </tr>\n",
              "  </thead>\n",
              "  <tbody>\n",
              "    <tr>\n",
              "      <th>0</th>\n",
              "      <td>flickers</td>\n",
              "      <td>0.935323</td>\n",
              "    </tr>\n",
              "    <tr>\n",
              "      <th>4</th>\n",
              "      <td>osc_transients</td>\n",
              "      <td>0.914729</td>\n",
              "    </tr>\n",
              "    <tr>\n",
              "      <th>9</th>\n",
              "      <td>swells_harmonics</td>\n",
              "      <td>0.849722</td>\n",
              "    </tr>\n",
              "    <tr>\n",
              "      <th>8</th>\n",
              "      <td>swells</td>\n",
              "      <td>0.846154</td>\n",
              "    </tr>\n",
              "    <tr>\n",
              "      <th>7</th>\n",
              "      <td>spikes</td>\n",
              "      <td>0.808864</td>\n",
              "    </tr>\n",
              "    <tr>\n",
              "      <th>1</th>\n",
              "      <td>harmonics</td>\n",
              "      <td>0.797945</td>\n",
              "    </tr>\n",
              "    <tr>\n",
              "      <th>5</th>\n",
              "      <td>sags</td>\n",
              "      <td>0.786039</td>\n",
              "    </tr>\n",
              "    <tr>\n",
              "      <th>2</th>\n",
              "      <td>interruptions</td>\n",
              "      <td>0.744554</td>\n",
              "    </tr>\n",
              "    <tr>\n",
              "      <th>6</th>\n",
              "      <td>sags_harmonics</td>\n",
              "      <td>0.715673</td>\n",
              "    </tr>\n",
              "    <tr>\n",
              "      <th>3</th>\n",
              "      <td>interruptions_harmonics</td>\n",
              "      <td>0.649402</td>\n",
              "    </tr>\n",
              "  </tbody>\n",
              "</table>\n",
              "</div>\n",
              "      <button class=\"colab-df-convert\" onclick=\"convertToInteractive('df-32311e6c-5eec-45da-a5c8-9b5d571f8570')\"\n",
              "              title=\"Convert this dataframe to an interactive table.\"\n",
              "              style=\"display:none;\">\n",
              "        \n",
              "  <svg xmlns=\"http://www.w3.org/2000/svg\" height=\"24px\"viewBox=\"0 0 24 24\"\n",
              "       width=\"24px\">\n",
              "    <path d=\"M0 0h24v24H0V0z\" fill=\"none\"/>\n",
              "    <path d=\"M18.56 5.44l.94 2.06.94-2.06 2.06-.94-2.06-.94-.94-2.06-.94 2.06-2.06.94zm-11 1L8.5 8.5l.94-2.06 2.06-.94-2.06-.94L8.5 2.5l-.94 2.06-2.06.94zm10 10l.94 2.06.94-2.06 2.06-.94-2.06-.94-.94-2.06-.94 2.06-2.06.94z\"/><path d=\"M17.41 7.96l-1.37-1.37c-.4-.4-.92-.59-1.43-.59-.52 0-1.04.2-1.43.59L10.3 9.45l-7.72 7.72c-.78.78-.78 2.05 0 2.83L4 21.41c.39.39.9.59 1.41.59.51 0 1.02-.2 1.41-.59l7.78-7.78 2.81-2.81c.8-.78.8-2.07 0-2.86zM5.41 20L4 18.59l7.72-7.72 1.47 1.35L5.41 20z\"/>\n",
              "  </svg>\n",
              "      </button>\n",
              "      \n",
              "  <style>\n",
              "    .colab-df-container {\n",
              "      display:flex;\n",
              "      flex-wrap:wrap;\n",
              "      gap: 12px;\n",
              "    }\n",
              "\n",
              "    .colab-df-convert {\n",
              "      background-color: #E8F0FE;\n",
              "      border: none;\n",
              "      border-radius: 50%;\n",
              "      cursor: pointer;\n",
              "      display: none;\n",
              "      fill: #1967D2;\n",
              "      height: 32px;\n",
              "      padding: 0 0 0 0;\n",
              "      width: 32px;\n",
              "    }\n",
              "\n",
              "    .colab-df-convert:hover {\n",
              "      background-color: #E2EBFA;\n",
              "      box-shadow: 0px 1px 2px rgba(60, 64, 67, 0.3), 0px 1px 3px 1px rgba(60, 64, 67, 0.15);\n",
              "      fill: #174EA6;\n",
              "    }\n",
              "\n",
              "    [theme=dark] .colab-df-convert {\n",
              "      background-color: #3B4455;\n",
              "      fill: #D2E3FC;\n",
              "    }\n",
              "\n",
              "    [theme=dark] .colab-df-convert:hover {\n",
              "      background-color: #434B5C;\n",
              "      box-shadow: 0px 1px 3px 1px rgba(0, 0, 0, 0.15);\n",
              "      filter: drop-shadow(0px 1px 2px rgba(0, 0, 0, 0.3));\n",
              "      fill: #FFFFFF;\n",
              "    }\n",
              "  </style>\n",
              "\n",
              "      <script>\n",
              "        const buttonEl =\n",
              "          document.querySelector('#df-32311e6c-5eec-45da-a5c8-9b5d571f8570 button.colab-df-convert');\n",
              "        buttonEl.style.display =\n",
              "          google.colab.kernel.accessAllowed ? 'block' : 'none';\n",
              "\n",
              "        async function convertToInteractive(key) {\n",
              "          const element = document.querySelector('#df-32311e6c-5eec-45da-a5c8-9b5d571f8570');\n",
              "          const dataTable =\n",
              "            await google.colab.kernel.invokeFunction('convertToInteractive',\n",
              "                                                     [key], {});\n",
              "          if (!dataTable) return;\n",
              "\n",
              "          const docLinkHtml = 'Like what you see? Visit the ' +\n",
              "            '<a target=\"_blank\" href=https://colab.research.google.com/notebooks/data_table.ipynb>data table notebook</a>'\n",
              "            + ' to learn more about interactive tables.';\n",
              "          element.innerHTML = '';\n",
              "          dataTable['output_type'] = 'display_data';\n",
              "          await google.colab.output.renderOutput(dataTable, element);\n",
              "          const docLink = document.createElement('div');\n",
              "          docLink.innerHTML = docLinkHtml;\n",
              "          element.appendChild(docLink);\n",
              "        }\n",
              "      </script>\n",
              "    </div>\n",
              "  </div>\n",
              "  "
            ]
          },
          "metadata": {},
          "execution_count": 21
        }
      ]
    },
    {
      "cell_type": "code",
      "source": [
        "import matplotlib.pyplot as plt\n",
        "\n",
        "fig, ax = plt.subplots(figsize=(5, 5))\n",
        "scores = ax.barh(range(len(f1_scores)), f1_scores[\"f1-score\"].values)\n",
        "ax.set_yticks(range(len(f1_scores)))\n",
        "ax.set_yticklabels(list(f1_scores[\"class_name\"]))\n",
        "ax.set_xlabel(\"f1-score\")\n",
        "ax.set_title(\"F1-Scores for 10 Different Classes\")\n",
        "ax.invert_yaxis(); # reverse the order\n",
        "\n",
        "def autolabel(rects): # Modified version of: https://matplotlib.org/examples/api/barchart_demo.html\n",
        "  \"\"\"\n",
        "  Attach a text label above each bar displaying its height (it's value).\n",
        "  \"\"\"\n",
        "  for rect in rects:\n",
        "    width = rect.get_width()\n",
        "    ax.text(1.03*width, rect.get_y() + rect.get_height()/1.5,\n",
        "            f\"{width:.2f}\",\n",
        "            ha='center', va='bottom')\n",
        "\n",
        "autolabel(scores)"
      ],
      "metadata": {
        "colab": {
          "base_uri": "https://localhost:8080/",
          "height": 350
        },
        "id": "wb1limSh3p7g",
        "outputId": "638ff0ff-e824-4c8f-a49a-41f9fe35f559"
      },
      "execution_count": null,
      "outputs": [
        {
          "output_type": "display_data",
          "data": {
            "text/plain": [
              "<Figure size 360x360 with 1 Axes>"
            ],
            "image/png": "[encoded data removed]"
          },
          "metadata": {
            "needs_background": "light"
          }
        }
      ]
    },
    {
      "cell_type": "markdown",
      "source": [
        "Finding the most wrong predictions as follows."
      ],
      "metadata": {
        "id": "LXbJTWhbAvYq"
      }
    },
    {
      "cell_type": "code",
      "source": [
        "# 1. Get the filenames of all of our test data\n",
        "filepaths = []\n",
        "for filepath in group_validation_dataset.list_files(\"/content/drive/MyDrive/target_dataset_10_classes(Jasper)/*/*.png\", \n",
        "                            shuffle=False):\n",
        "  filepaths.append(filepath.numpy())\n",
        "filepaths[:10]"
      ],
      "metadata": {
        "colab": {
          "base_uri": "https://localhost:8080/"
        },
        "id": "tajnsHMa44kr",
        "outputId": "b3d34493-48c5-42dc-b658-67aa4984828f"
      },
      "execution_count": null,
      "outputs": [
        {
          "output_type": "execute_result",
          "data": {
            "text/plain": [
              "[b'/content/drive/MyDrive/target_dataset_10_classes(Jasper)/flickers/flickers_sample0100.png',\n",
              " b'/content/drive/MyDrive/target_dataset_10_classes(Jasper)/flickers/flickers_sample0101.png',\n",
              " b'/content/drive/MyDrive/target_dataset_10_classes(Jasper)/flickers/flickers_sample0102.png',\n",
              " b'/content/drive/MyDrive/target_dataset_10_classes(Jasper)/flickers/flickers_sample0103.png',\n",
              " b'/content/drive/MyDrive/target_dataset_10_classes(Jasper)/flickers/flickers_sample0104.png',\n",
              " b'/content/drive/MyDrive/target_dataset_10_classes(Jasper)/flickers/flickers_sample0105.png',\n",
              " b'/content/drive/MyDrive/target_dataset_10_classes(Jasper)/flickers/flickers_sample0106.png',\n",
              " b'/content/drive/MyDrive/target_dataset_10_classes(Jasper)/flickers/flickers_sample0107.png',\n",
              " b'/content/drive/MyDrive/target_dataset_10_classes(Jasper)/flickers/flickers_sample0110.png',\n",
              " b'/content/drive/MyDrive/target_dataset_10_classes(Jasper)/flickers/flickers_sample0111.png']"
            ]
          },
          "metadata": {},
          "execution_count": 32
        }
      ]
    },
    {
      "cell_type": "code",
      "source": [
        "# 2. Create a dataframe out of current prediction data for analysis\n",
        "import pandas as pd\n",
        "pred_df = pd.DataFrame({\"img_path\": filepaths,\n",
        "            \"y_true\": y_labels,\n",
        "            \"y_pred\": pred_classes,\n",
        "            \"pred_conf\": pred_probs.max(axis=1), # get the maximum prediction probability value\n",
        "            \"y_true_classname\": [class_names[i] for i in y_labels],\n",
        "            \"y_pred_classname\": [class_names[i] for i in pred_classes]}) \n",
        "pred_df.head()"
      ],
      "metadata": {
        "colab": {
          "base_uri": "https://localhost:8080/",
          "height": 206
        },
        "id": "aPAki7RqGg78",
        "outputId": "72f6e57a-0ccc-4662-c8e4-67ef2d7ae412"
      },
      "execution_count": null,
      "outputs": [
        {
          "output_type": "execute_result",
          "data": {
            "text/plain": [
              "                                            img_path  y_true  y_pred  \\\n",
              "0  b'/content/drive/MyDrive/target_dataset_10_cla...       0       0   \n",
              "1  b'/content/drive/MyDrive/target_dataset_10_cla...       0       0   \n",
              "2  b'/content/drive/MyDrive/target_dataset_10_cla...       0       0   \n",
              "3  b'/content/drive/MyDrive/target_dataset_10_cla...       0       0   \n",
              "4  b'/content/drive/MyDrive/target_dataset_10_cla...       0       0   \n",
              "\n",
              "   pred_conf y_true_classname y_pred_classname  \n",
              "0   0.875200         flickers         flickers  \n",
              "1   0.868384         flickers         flickers  \n",
              "2   0.851421         flickers         flickers  \n",
              "3   0.859126         flickers         flickers  \n",
              "4   0.527638         flickers         flickers  "
            ],
            "text/html": [
              "\n",
              "  <div id=\"df-428cd72f-65e4-4fcf-879c-3058565d4efa\">\n",
              "    <div class=\"colab-df-container\">\n",
              "      <div>\n",
              "<style scoped>\n",
              "    .dataframe tbody tr th:only-of-type {\n",
              "        vertical-align: middle;\n",
              "    }\n",
              "\n",
              "    .dataframe tbody tr th {\n",
              "        vertical-align: top;\n",
              "    }\n",
              "\n",
              "    .dataframe thead th {\n",
              "        text-align: right;\n",
              "    }\n",
              "</style>\n",
              "<table border=\"1\" class=\"dataframe\">\n",
              "  <thead>\n",
              "    <tr style=\"text-align: right;\">\n",
              "      <th></th>\n",
              "      <th>img_path</th>\n",
              "      <th>y_true</th>\n",
              "      <th>y_pred</th>\n",
              "      <th>pred_conf</th>\n",
              "      <th>y_true_classname</th>\n",
              "      <th>y_pred_classname</th>\n",
              "    </tr>\n",
              "  </thead>\n",
              "  <tbody>\n",
              "    <tr>\n",
              "      <th>0</th>\n",
              "      <td>b'/content/drive/MyDrive/target_dataset_10_cla...</td>\n",
              "      <td>0</td>\n",
              "      <td>0</td>\n",
              "      <td>0.875200</td>\n",
              "      <td>flickers</td>\n",
              "      <td>flickers</td>\n",
              "    </tr>\n",
              "    <tr>\n",
              "      <th>1</th>\n",
              "      <td>b'/content/drive/MyDrive/target_dataset_10_cla...</td>\n",
              "      <td>0</td>\n",
              "      <td>0</td>\n",
              "      <td>0.868384</td>\n",
              "      <td>flickers</td>\n",
              "      <td>flickers</td>\n",
              "    </tr>\n",
              "    <tr>\n",
              "      <th>2</th>\n",
              "      <td>b'/content/drive/MyDrive/target_dataset_10_cla...</td>\n",
              "      <td>0</td>\n",
              "      <td>0</td>\n",
              "      <td>0.851421</td>\n",
              "      <td>flickers</td>\n",
              "      <td>flickers</td>\n",
              "    </tr>\n",
              "    <tr>\n",
              "      <th>3</th>\n",
              "      <td>b'/content/drive/MyDrive/target_dataset_10_cla...</td>\n",
              "      <td>0</td>\n",
              "      <td>0</td>\n",
              "      <td>0.859126</td>\n",
              "      <td>flickers</td>\n",
              "      <td>flickers</td>\n",
              "    </tr>\n",
              "    <tr>\n",
              "      <th>4</th>\n",
              "      <td>b'/content/drive/MyDrive/target_dataset_10_cla...</td>\n",
              "      <td>0</td>\n",
              "      <td>0</td>\n",
              "      <td>0.527638</td>\n",
              "      <td>flickers</td>\n",
              "      <td>flickers</td>\n",
              "    </tr>\n",
              "  </tbody>\n",
              "</table>\n",
              "</div>\n",
              "      <button class=\"colab-df-convert\" onclick=\"convertToInteractive('df-428cd72f-65e4-4fcf-879c-3058565d4efa')\"\n",
              "              title=\"Convert this dataframe to an interactive table.\"\n",
              "              style=\"display:none;\">\n",
              "        \n",
              "  <svg xmlns=\"http://www.w3.org/2000/svg\" height=\"24px\"viewBox=\"0 0 24 24\"\n",
              "       width=\"24px\">\n",
              "    <path d=\"M0 0h24v24H0V0z\" fill=\"none\"/>\n",
              "    <path d=\"M18.56 5.44l.94 2.06.94-2.06 2.06-.94-2.06-.94-.94-2.06-.94 2.06-2.06.94zm-11 1L8.5 8.5l.94-2.06 2.06-.94-2.06-.94L8.5 2.5l-.94 2.06-2.06.94zm10 10l.94 2.06.94-2.06 2.06-.94-2.06-.94-.94-2.06-.94 2.06-2.06.94z\"/><path d=\"M17.41 7.96l-1.37-1.37c-.4-.4-.92-.59-1.43-.59-.52 0-1.04.2-1.43.59L10.3 9.45l-7.72 7.72c-.78.78-.78 2.05 0 2.83L4 21.41c.39.39.9.59 1.41.59.51 0 1.02-.2 1.41-.59l7.78-7.78 2.81-2.81c.8-.78.8-2.07 0-2.86zM5.41 20L4 18.59l7.72-7.72 1.47 1.35L5.41 20z\"/>\n",
              "  </svg>\n",
              "      </button>\n",
              "      \n",
              "  <style>\n",
              "    .colab-df-container {\n",
              "      display:flex;\n",
              "      flex-wrap:wrap;\n",
              "      gap: 12px;\n",
              "    }\n",
              "\n",
              "    .colab-df-convert {\n",
              "      background-color: #E8F0FE;\n",
              "      border: none;\n",
              "      border-radius: 50%;\n",
              "      cursor: pointer;\n",
              "      display: none;\n",
              "      fill: #1967D2;\n",
              "      height: 32px;\n",
              "      padding: 0 0 0 0;\n",
              "      width: 32px;\n",
              "    }\n",
              "\n",
              "    .colab-df-convert:hover {\n",
              "      background-color: #E2EBFA;\n",
              "      box-shadow: 0px 1px 2px rgba(60, 64, 67, 0.3), 0px 1px 3px 1px rgba(60, 64, 67, 0.15);\n",
              "      fill: #174EA6;\n",
              "    }\n",
              "\n",
              "    [theme=dark] .colab-df-convert {\n",
              "      background-color: #3B4455;\n",
              "      fill: #D2E3FC;\n",
              "    }\n",
              "\n",
              "    [theme=dark] .colab-df-convert:hover {\n",
              "      background-color: #434B5C;\n",
              "      box-shadow: 0px 1px 3px 1px rgba(0, 0, 0, 0.15);\n",
              "      filter: drop-shadow(0px 1px 2px rgba(0, 0, 0, 0.3));\n",
              "      fill: #FFFFFF;\n",
              "    }\n",
              "  </style>\n",
              "\n",
              "      <script>\n",
              "        const buttonEl =\n",
              "          document.querySelector('#df-428cd72f-65e4-4fcf-879c-3058565d4efa button.colab-df-convert');\n",
              "        buttonEl.style.display =\n",
              "          google.colab.kernel.accessAllowed ? 'block' : 'none';\n",
              "\n",
              "        async function convertToInteractive(key) {\n",
              "          const element = document.querySelector('#df-428cd72f-65e4-4fcf-879c-3058565d4efa');\n",
              "          const dataTable =\n",
              "            await google.colab.kernel.invokeFunction('convertToInteractive',\n",
              "                                                     [key], {});\n",
              "          if (!dataTable) return;\n",
              "\n",
              "          const docLinkHtml = 'Like what you see? Visit the ' +\n",
              "            '<a target=\"_blank\" href=https://colab.research.google.com/notebooks/data_table.ipynb>data table notebook</a>'\n",
              "            + ' to learn more about interactive tables.';\n",
              "          element.innerHTML = '';\n",
              "          dataTable['output_type'] = 'display_data';\n",
              "          await google.colab.output.renderOutput(dataTable, element);\n",
              "          const docLink = document.createElement('div');\n",
              "          docLink.innerHTML = docLinkHtml;\n",
              "          element.appendChild(docLink);\n",
              "        }\n",
              "      </script>\n",
              "    </div>\n",
              "  </div>\n",
              "  "
            ]
          },
          "metadata": {},
          "execution_count": 33
        }
      ]
    },
    {
      "cell_type": "code",
      "source": [
        "# 3. Is the prediction correct?\n",
        "pred_df[\"pred_correct\"] = pred_df[\"y_true\"] == pred_df[\"y_pred\"]\n",
        "pred_df.head()"
      ],
      "metadata": {
        "colab": {
          "base_uri": "https://localhost:8080/",
          "height": 206
        },
        "id": "mcXAd-LUHREs",
        "outputId": "31506245-e2e7-4ae0-b9ae-a19638de2d69"
      },
      "execution_count": null,
      "outputs": [
        {
          "output_type": "execute_result",
          "data": {
            "text/plain": [
              "                                            img_path  y_true  y_pred  \\\n",
              "0  b'/content/drive/MyDrive/target_dataset_10_cla...       0       0   \n",
              "1  b'/content/drive/MyDrive/target_dataset_10_cla...       0       0   \n",
              "2  b'/content/drive/MyDrive/target_dataset_10_cla...       0       0   \n",
              "3  b'/content/drive/MyDrive/target_dataset_10_cla...       0       0   \n",
              "4  b'/content/drive/MyDrive/target_dataset_10_cla...       0       0   \n",
              "\n",
              "   pred_conf y_true_classname y_pred_classname  pred_correct  \n",
              "0   0.875200         flickers         flickers          True  \n",
              "1   0.868384         flickers         flickers          True  \n",
              "2   0.851421         flickers         flickers          True  \n",
              "3   0.859126         flickers         flickers          True  \n",
              "4   0.527638         flickers         flickers          True  "
            ],
            "text/html": [
              "\n",
              "  <div id=\"df-1b42ea1e-fbf4-48de-b278-416b00c412cd\">\n",
              "    <div class=\"colab-df-container\">\n",
              "      <div>\n",
              "<style scoped>\n",
              "    .dataframe tbody tr th:only-of-type {\n",
              "        vertical-align: middle;\n",
              "    }\n",
              "\n",
              "    .dataframe tbody tr th {\n",
              "        vertical-align: top;\n",
              "    }\n",
              "\n",
              "    .dataframe thead th {\n",
              "        text-align: right;\n",
              "    }\n",
              "</style>\n",
              "<table border=\"1\" class=\"dataframe\">\n",
              "  <thead>\n",
              "    <tr style=\"text-align: right;\">\n",
              "      <th></th>\n",
              "      <th>img_path</th>\n",
              "      <th>y_true</th>\n",
              "      <th>y_pred</th>\n",
              "      <th>pred_conf</th>\n",
              "      <th>y_true_classname</th>\n",
              "      <th>y_pred_classname</th>\n",
              "      <th>pred_correct</th>\n",
              "    </tr>\n",
              "  </thead>\n",
              "  <tbody>\n",
              "    <tr>\n",
              "      <th>0</th>\n",
              "      <td>b'/content/drive/MyDrive/target_dataset_10_cla...</td>\n",
              "      <td>0</td>\n",
              "      <td>0</td>\n",
              "      <td>0.875200</td>\n",
              "      <td>flickers</td>\n",
              "      <td>flickers</td>\n",
              "      <td>True</td>\n",
              "    </tr>\n",
              "    <tr>\n",
              "      <th>1</th>\n",
              "      <td>b'/content/drive/MyDrive/target_dataset_10_cla...</td>\n",
              "      <td>0</td>\n",
              "      <td>0</td>\n",
              "      <td>0.868384</td>\n",
              "      <td>flickers</td>\n",
              "      <td>flickers</td>\n",
              "      <td>True</td>\n",
              "    </tr>\n",
              "    <tr>\n",
              "      <th>2</th>\n",
              "      <td>b'/content/drive/MyDrive/target_dataset_10_cla...</td>\n",
              "      <td>0</td>\n",
              "      <td>0</td>\n",
              "      <td>0.851421</td>\n",
              "      <td>flickers</td>\n",
              "      <td>flickers</td>\n",
              "      <td>True</td>\n",
              "    </tr>\n",
              "    <tr>\n",
              "      <th>3</th>\n",
              "      <td>b'/content/drive/MyDrive/target_dataset_10_cla...</td>\n",
              "      <td>0</td>\n",
              "      <td>0</td>\n",
              "      <td>0.859126</td>\n",
              "      <td>flickers</td>\n",
              "      <td>flickers</td>\n",
              "      <td>True</td>\n",
              "    </tr>\n",
              "    <tr>\n",
              "      <th>4</th>\n",
              "      <td>b'/content/drive/MyDrive/target_dataset_10_cla...</td>\n",
              "      <td>0</td>\n",
              "      <td>0</td>\n",
              "      <td>0.527638</td>\n",
              "      <td>flickers</td>\n",
              "      <td>flickers</td>\n",
              "      <td>True</td>\n",
              "    </tr>\n",
              "  </tbody>\n",
              "</table>\n",
              "</div>\n",
              "      <button class=\"colab-df-convert\" onclick=\"convertToInteractive('df-1b42ea1e-fbf4-48de-b278-416b00c412cd')\"\n",
              "              title=\"Convert this dataframe to an interactive table.\"\n",
              "              style=\"display:none;\">\n",
              "        \n",
              "  <svg xmlns=\"http://www.w3.org/2000/svg\" height=\"24px\"viewBox=\"0 0 24 24\"\n",
              "       width=\"24px\">\n",
              "    <path d=\"M0 0h24v24H0V0z\" fill=\"none\"/>\n",
              "    <path d=\"M18.56 5.44l.94 2.06.94-2.06 2.06-.94-2.06-.94-.94-2.06-.94 2.06-2.06.94zm-11 1L8.5 8.5l.94-2.06 2.06-.94-2.06-.94L8.5 2.5l-.94 2.06-2.06.94zm10 10l.94 2.06.94-2.06 2.06-.94-2.06-.94-.94-2.06-.94 2.06-2.06.94z\"/><path d=\"M17.41 7.96l-1.37-1.37c-.4-.4-.92-.59-1.43-.59-.52 0-1.04.2-1.43.59L10.3 9.45l-7.72 7.72c-.78.78-.78 2.05 0 2.83L4 21.41c.39.39.9.59 1.41.59.51 0 1.02-.2 1.41-.59l7.78-7.78 2.81-2.81c.8-.78.8-2.07 0-2.86zM5.41 20L4 18.59l7.72-7.72 1.47 1.35L5.41 20z\"/>\n",
              "  </svg>\n",
              "      </button>\n",
              "      \n",
              "  <style>\n",
              "    .colab-df-container {\n",
              "      display:flex;\n",
              "      flex-wrap:wrap;\n",
              "      gap: 12px;\n",
              "    }\n",
              "\n",
              "    .colab-df-convert {\n",
              "      background-color: #E8F0FE;\n",
              "      border: none;\n",
              "      border-radius: 50%;\n",
              "      cursor: pointer;\n",
              "      display: none;\n",
              "      fill: #1967D2;\n",
              "      height: 32px;\n",
              "      padding: 0 0 0 0;\n",
              "      width: 32px;\n",
              "    }\n",
              "\n",
              "    .colab-df-convert:hover {\n",
              "      background-color: #E2EBFA;\n",
              "      box-shadow: 0px 1px 2px rgba(60, 64, 67, 0.3), 0px 1px 3px 1px rgba(60, 64, 67, 0.15);\n",
              "      fill: #174EA6;\n",
              "    }\n",
              "\n",
              "    [theme=dark] .colab-df-convert {\n",
              "      background-color: #3B4455;\n",
              "      fill: #D2E3FC;\n",
              "    }\n",
              "\n",
              "    [theme=dark] .colab-df-convert:hover {\n",
              "      background-color: #434B5C;\n",
              "      box-shadow: 0px 1px 3px 1px rgba(0, 0, 0, 0.15);\n",
              "      filter: drop-shadow(0px 1px 2px rgba(0, 0, 0, 0.3));\n",
              "      fill: #FFFFFF;\n",
              "    }\n",
              "  </style>\n",
              "\n",
              "      <script>\n",
              "        const buttonEl =\n",
              "          document.querySelector('#df-1b42ea1e-fbf4-48de-b278-416b00c412cd button.colab-df-convert');\n",
              "        buttonEl.style.display =\n",
              "          google.colab.kernel.accessAllowed ? 'block' : 'none';\n",
              "\n",
              "        async function convertToInteractive(key) {\n",
              "          const element = document.querySelector('#df-1b42ea1e-fbf4-48de-b278-416b00c412cd');\n",
              "          const dataTable =\n",
              "            await google.colab.kernel.invokeFunction('convertToInteractive',\n",
              "                                                     [key], {});\n",
              "          if (!dataTable) return;\n",
              "\n",
              "          const docLinkHtml = 'Like what you see? Visit the ' +\n",
              "            '<a target=\"_blank\" href=https://colab.research.google.com/notebooks/data_table.ipynb>data table notebook</a>'\n",
              "            + ' to learn more about interactive tables.';\n",
              "          element.innerHTML = '';\n",
              "          dataTable['output_type'] = 'display_data';\n",
              "          await google.colab.output.renderOutput(dataTable, element);\n",
              "          const docLink = document.createElement('div');\n",
              "          docLink.innerHTML = docLinkHtml;\n",
              "          element.appendChild(docLink);\n",
              "        }\n",
              "      </script>\n",
              "    </div>\n",
              "  </div>\n",
              "  "
            ]
          },
          "metadata": {},
          "execution_count": 34
        }
      ]
    },
    {
      "cell_type": "code",
      "source": [
        "# 4. Get the top 100 wrong examples\n",
        "top_100_wrong = pred_df[pred_df[\"pred_correct\"] == False].sort_values(\"pred_conf\", ascending=False)[:100]\n",
        "top_100_wrong.head(20)"
      ],
      "metadata": {
        "colab": {
          "base_uri": "https://localhost:8080/",
          "height": 720
        },
        "id": "MG9M-LQ4Hely",
        "outputId": "f3992bcf-6c52-4507-9274-9b7b97ab113b"
      },
      "execution_count": null,
      "outputs": [
        {
          "output_type": "execute_result",
          "data": {
            "text/plain": [
              "                                               img_path  y_true  y_pred  \\\n",
              "2922  b'/content/drive/MyDrive/target_dataset_10_cla...       9       4   \n",
              "2952  b'/content/drive/MyDrive/target_dataset_10_cla...       9       4   \n",
              "2806  b'/content/drive/MyDrive/target_dataset_10_cla...       9       1   \n",
              "2904  b'/content/drive/MyDrive/target_dataset_10_cla...       9       4   \n",
              "1495  b'/content/drive/MyDrive/target_dataset_10_cla...       4       7   \n",
              "2934  b'/content/drive/MyDrive/target_dataset_10_cla...       9       6   \n",
              "1961  b'/content/drive/MyDrive/target_dataset_10_cla...       6       1   \n",
              "2017  b'/content/drive/MyDrive/target_dataset_10_cla...       6       1   \n",
              "2995  b'/content/drive/MyDrive/target_dataset_10_cla...       9       4   \n",
              "2972  b'/content/drive/MyDrive/target_dataset_10_cla...       9       4   \n",
              "1973  b'/content/drive/MyDrive/target_dataset_10_cla...       6       3   \n",
              "1066  b'/content/drive/MyDrive/target_dataset_10_cla...       3       1   \n",
              "1868  b'/content/drive/MyDrive/target_dataset_10_cla...       6       3   \n",
              "2807  b'/content/drive/MyDrive/target_dataset_10_cla...       9       1   \n",
              "1314  b'/content/drive/MyDrive/target_dataset_10_cla...       4       7   \n",
              "2706  b'/content/drive/MyDrive/target_dataset_10_cla...       9       1   \n",
              "957   b'/content/drive/MyDrive/target_dataset_10_cla...       3       1   \n",
              "2851  b'/content/drive/MyDrive/target_dataset_10_cla...       9       1   \n",
              "2580  b'/content/drive/MyDrive/target_dataset_10_cla...       8       7   \n",
              "2097  b'/content/drive/MyDrive/target_dataset_10_cla...       6       3   \n",
              "\n",
              "      pred_conf         y_true_classname         y_pred_classname  \\\n",
              "2922   0.896950         swells_harmonics           osc_transients   \n",
              "2952   0.891752         swells_harmonics           osc_transients   \n",
              "2806   0.785914         swells_harmonics                harmonics   \n",
              "2904   0.785602         swells_harmonics           osc_transients   \n",
              "1495   0.783809           osc_transients                   spikes   \n",
              "2934   0.749442         swells_harmonics           sags_harmonics   \n",
              "1961   0.735903           sags_harmonics                harmonics   \n",
              "2017   0.729732           sags_harmonics                harmonics   \n",
              "2995   0.725064         swells_harmonics           osc_transients   \n",
              "2972   0.716487         swells_harmonics           osc_transients   \n",
              "1973   0.715183           sags_harmonics  interruptions_harmonics   \n",
              "1066   0.714621  interruptions_harmonics                harmonics   \n",
              "1868   0.713781           sags_harmonics  interruptions_harmonics   \n",
              "2807   0.708691         swells_harmonics                harmonics   \n",
              "1314   0.707676           osc_transients                   spikes   \n",
              "2706   0.702525         swells_harmonics                harmonics   \n",
              "957    0.701500  interruptions_harmonics                harmonics   \n",
              "2851   0.686391         swells_harmonics                harmonics   \n",
              "2580   0.681846                   swells                   spikes   \n",
              "2097   0.679818           sags_harmonics  interruptions_harmonics   \n",
              "\n",
              "      pred_correct  \n",
              "2922         False  \n",
              "2952         False  \n",
              "2806         False  \n",
              "2904         False  \n",
              "1495         False  \n",
              "2934         False  \n",
              "1961         False  \n",
              "2017         False  \n",
              "2995         False  \n",
              "2972         False  \n",
              "1973         False  \n",
              "1066         False  \n",
              "1868         False  \n",
              "2807         False  \n",
              "1314         False  \n",
              "2706         False  \n",
              "957          False  \n",
              "2851         False  \n",
              "2580         False  \n",
              "2097         False  "
            ],
            "text/html": [
              "\n",
              "  <div id=\"df-28676f1d-c473-4660-b63a-710b9ac2fe83\">\n",
              "    <div class=\"colab-df-container\">\n",
              "      <div>\n",
              "<style scoped>\n",
              "    .dataframe tbody tr th:only-of-type {\n",
              "        vertical-align: middle;\n",
              "    }\n",
              "\n",
              "    .dataframe tbody tr th {\n",
              "        vertical-align: top;\n",
              "    }\n",
              "\n",
              "    .dataframe thead th {\n",
              "        text-align: right;\n",
              "    }\n",
              "</style>\n",
              "<table border=\"1\" class=\"dataframe\">\n",
              "  <thead>\n",
              "    <tr style=\"text-align: right;\">\n",
              "      <th></th>\n",
              "      <th>img_path</th>\n",
              "      <th>y_true</th>\n",
              "      <th>y_pred</th>\n",
              "      <th>pred_conf</th>\n",
              "      <th>y_true_classname</th>\n",
              "      <th>y_pred_classname</th>\n",
              "      <th>pred_correct</th>\n",
              "    </tr>\n",
              "  </thead>\n",
              "  <tbody>\n",
              "    <tr>\n",
              "      <th>2922</th>\n",
              "      <td>b'/content/drive/MyDrive/target_dataset_10_cla...</td>\n",
              "      <td>9</td>\n",
              "      <td>4</td>\n",
              "      <td>0.896950</td>\n",
              "      <td>swells_harmonics</td>\n",
              "      <td>osc_transients</td>\n",
              "      <td>False</td>\n",
              "    </tr>\n",
              "    <tr>\n",
              "      <th>2952</th>\n",
              "      <td>b'/content/drive/MyDrive/target_dataset_10_cla...</td>\n",
              "      <td>9</td>\n",
              "      <td>4</td>\n",
              "      <td>0.891752</td>\n",
              "      <td>swells_harmonics</td>\n",
              "      <td>osc_transients</td>\n",
              "      <td>False</td>\n",
              "    </tr>\n",
              "    <tr>\n",
              "      <th>2806</th>\n",
              "      <td>b'/content/drive/MyDrive/target_dataset_10_cla...</td>\n",
              "      <td>9</td>\n",
              "      <td>1</td>\n",
              "      <td>0.785914</td>\n",
              "      <td>swells_harmonics</td>\n",
              "      <td>harmonics</td>\n",
              "      <td>False</td>\n",
              "    </tr>\n",
              "    <tr>\n",
              "      <th>2904</th>\n",
              "      <td>b'/content/drive/MyDrive/target_dataset_10_cla...</td>\n",
              "      <td>9</td>\n",
              "      <td>4</td>\n",
              "      <td>0.785602</td>\n",
              "      <td>swells_harmonics</td>\n",
              "      <td>osc_transients</td>\n",
              "      <td>False</td>\n",
              "    </tr>\n",
              "    <tr>\n",
              "      <th>1495</th>\n",
              "      <td>b'/content/drive/MyDrive/target_dataset_10_cla...</td>\n",
              "      <td>4</td>\n",
              "      <td>7</td>\n",
              "      <td>0.783809</td>\n",
              "      <td>osc_transients</td>\n",
              "      <td>spikes</td>\n",
              "      <td>False</td>\n",
              "    </tr>\n",
              "    <tr>\n",
              "      <th>2934</th>\n",
              "      <td>b'/content/drive/MyDrive/target_dataset_10_cla...</td>\n",
              "      <td>9</td>\n",
              "      <td>6</td>\n",
              "      <td>0.749442</td>\n",
              "      <td>swells_harmonics</td>\n",
              "      <td>sags_harmonics</td>\n",
              "      <td>False</td>\n",
              "    </tr>\n",
              "    <tr>\n",
              "      <th>1961</th>\n",
              "      <td>b'/content/drive/MyDrive/target_dataset_10_cla...</td>\n",
              "      <td>6</td>\n",
              "      <td>1</td>\n",
              "      <td>0.735903</td>\n",
              "      <td>sags_harmonics</td>\n",
              "      <td>harmonics</td>\n",
              "      <td>False</td>\n",
              "    </tr>\n",
              "    <tr>\n",
              "      <th>2017</th>\n",
              "      <td>b'/content/drive/MyDrive/target_dataset_10_cla...</td>\n",
              "      <td>6</td>\n",
              "      <td>1</td>\n",
              "      <td>0.729732</td>\n",
              "      <td>sags_harmonics</td>\n",
              "      <td>harmonics</td>\n",
              "      <td>False</td>\n",
              "    </tr>\n",
              "    <tr>\n",
              "      <th>2995</th>\n",
              "      <td>b'/content/drive/MyDrive/target_dataset_10_cla...</td>\n",
              "      <td>9</td>\n",
              "      <td>4</td>\n",
              "      <td>0.725064</td>\n",
              "      <td>swells_harmonics</td>\n",
              "      <td>osc_transients</td>\n",
              "      <td>False</td>\n",
              "    </tr>\n",
              "    <tr>\n",
              "      <th>2972</th>\n",
              "      <td>b'/content/drive/MyDrive/target_dataset_10_cla...</td>\n",
              "      <td>9</td>\n",
              "      <td>4</td>\n",
              "      <td>0.716487</td>\n",
              "      <td>swells_harmonics</td>\n",
              "      <td>osc_transients</td>\n",
              "      <td>False</td>\n",
              "    </tr>\n",
              "    <tr>\n",
              "      <th>1973</th>\n",
              "      <td>b'/content/drive/MyDrive/target_dataset_10_cla...</td>\n",
              "      <td>6</td>\n",
              "      <td>3</td>\n",
              "      <td>0.715183</td>\n",
              "      <td>sags_harmonics</td>\n",
              "      <td>interruptions_harmonics</td>\n",
              "      <td>False</td>\n",
              "    </tr>\n",
              "    <tr>\n",
              "      <th>1066</th>\n",
              "      <td>b'/content/drive/MyDrive/target_dataset_10_cla...</td>\n",
              "      <td>3</td>\n",
              "      <td>1</td>\n",
              "      <td>0.714621</td>\n",
              "      <td>interruptions_harmonics</td>\n",
              "      <td>harmonics</td>\n",
              "      <td>False</td>\n",
              "    </tr>\n",
              "    <tr>\n",
              "      <th>1868</th>\n",
              "      <td>b'/content/drive/MyDrive/target_dataset_10_cla...</td>\n",
              "      <td>6</td>\n",
              "      <td>3</td>\n",
              "      <td>0.713781</td>\n",
              "      <td>sags_harmonics</td>\n",
              "      <td>interruptions_harmonics</td>\n",
              "      <td>False</td>\n",
              "    </tr>\n",
              "    <tr>\n",
              "      <th>2807</th>\n",
              "      <td>b'/content/drive/MyDrive/target_dataset_10_cla...</td>\n",
              "      <td>9</td>\n",
              "      <td>1</td>\n",
              "      <td>0.708691</td>\n",
              "      <td>swells_harmonics</td>\n",
              "      <td>harmonics</td>\n",
              "      <td>False</td>\n",
              "    </tr>\n",
              "    <tr>\n",
              "      <th>1314</th>\n",
              "      <td>b'/content/drive/MyDrive/target_dataset_10_cla...</td>\n",
              "      <td>4</td>\n",
              "      <td>7</td>\n",
              "      <td>0.707676</td>\n",
              "      <td>osc_transients</td>\n",
              "      <td>spikes</td>\n",
              "      <td>False</td>\n",
              "    </tr>\n",
              "    <tr>\n",
              "      <th>2706</th>\n",
              "      <td>b'/content/drive/MyDrive/target_dataset_10_cla...</td>\n",
              "      <td>9</td>\n",
              "      <td>1</td>\n",
              "      <td>0.702525</td>\n",
              "      <td>swells_harmonics</td>\n",
              "      <td>harmonics</td>\n",
              "      <td>False</td>\n",
              "    </tr>\n",
              "    <tr>\n",
              "      <th>957</th>\n",
              "      <td>b'/content/drive/MyDrive/target_dataset_10_cla...</td>\n",
              "      <td>3</td>\n",
              "      <td>1</td>\n",
              "      <td>0.701500</td>\n",
              "      <td>interruptions_harmonics</td>\n",
              "      <td>harmonics</td>\n",
              "      <td>False</td>\n",
              "    </tr>\n",
              "    <tr>\n",
              "      <th>2851</th>\n",
              "      <td>b'/content/drive/MyDrive/target_dataset_10_cla...</td>\n",
              "      <td>9</td>\n",
              "      <td>1</td>\n",
              "      <td>0.686391</td>\n",
              "      <td>swells_harmonics</td>\n",
              "      <td>harmonics</td>\n",
              "      <td>False</td>\n",
              "    </tr>\n",
              "    <tr>\n",
              "      <th>2580</th>\n",
              "      <td>b'/content/drive/MyDrive/target_dataset_10_cla...</td>\n",
              "      <td>8</td>\n",
              "      <td>7</td>\n",
              "      <td>0.681846</td>\n",
              "      <td>swells</td>\n",
              "      <td>spikes</td>\n",
              "      <td>False</td>\n",
              "    </tr>\n",
              "    <tr>\n",
              "      <th>2097</th>\n",
              "      <td>b'/content/drive/MyDrive/target_dataset_10_cla...</td>\n",
              "      <td>6</td>\n",
              "      <td>3</td>\n",
              "      <td>0.679818</td>\n",
              "      <td>sags_harmonics</td>\n",
              "      <td>interruptions_harmonics</td>\n",
              "      <td>False</td>\n",
              "    </tr>\n",
              "  </tbody>\n",
              "</table>\n",
              "</div>\n",
              "      <button class=\"colab-df-convert\" onclick=\"convertToInteractive('df-28676f1d-c473-4660-b63a-710b9ac2fe83')\"\n",
              "              title=\"Convert this dataframe to an interactive table.\"\n",
              "              style=\"display:none;\">\n",
              "        \n",
              "  <svg xmlns=\"http://www.w3.org/2000/svg\" height=\"24px\"viewBox=\"0 0 24 24\"\n",
              "       width=\"24px\">\n",
              "    <path d=\"M0 0h24v24H0V0z\" fill=\"none\"/>\n",
              "    <path d=\"M18.56 5.44l.94 2.06.94-2.06 2.06-.94-2.06-.94-.94-2.06-.94 2.06-2.06.94zm-11 1L8.5 8.5l.94-2.06 2.06-.94-2.06-.94L8.5 2.5l-.94 2.06-2.06.94zm10 10l.94 2.06.94-2.06 2.06-.94-2.06-.94-.94-2.06-.94 2.06-2.06.94z\"/><path d=\"M17.41 7.96l-1.37-1.37c-.4-.4-.92-.59-1.43-.59-.52 0-1.04.2-1.43.59L10.3 9.45l-7.72 7.72c-.78.78-.78 2.05 0 2.83L4 21.41c.39.39.9.59 1.41.59.51 0 1.02-.2 1.41-.59l7.78-7.78 2.81-2.81c.8-.78.8-2.07 0-2.86zM5.41 20L4 18.59l7.72-7.72 1.47 1.35L5.41 20z\"/>\n",
              "  </svg>\n",
              "      </button>\n",
              "      \n",
              "  <style>\n",
              "    .colab-df-container {\n",
              "      display:flex;\n",
              "      flex-wrap:wrap;\n",
              "      gap: 12px;\n",
              "    }\n",
              "\n",
              "    .colab-df-convert {\n",
              "      background-color: #E8F0FE;\n",
              "      border: none;\n",
              "      border-radius: 50%;\n",
              "      cursor: pointer;\n",
              "      display: none;\n",
              "      fill: #1967D2;\n",
              "      height: 32px;\n",
              "      padding: 0 0 0 0;\n",
              "      width: 32px;\n",
              "    }\n",
              "\n",
              "    .colab-df-convert:hover {\n",
              "      background-color: #E2EBFA;\n",
              "      box-shadow: 0px 1px 2px rgba(60, 64, 67, 0.3), 0px 1px 3px 1px rgba(60, 64, 67, 0.15);\n",
              "      fill: #174EA6;\n",
              "    }\n",
              "\n",
              "    [theme=dark] .colab-df-convert {\n",
              "      background-color: #3B4455;\n",
              "      fill: #D2E3FC;\n",
              "    }\n",
              "\n",
              "    [theme=dark] .colab-df-convert:hover {\n",
              "      background-color: #434B5C;\n",
              "      box-shadow: 0px 1px 3px 1px rgba(0, 0, 0, 0.15);\n",
              "      filter: drop-shadow(0px 1px 2px rgba(0, 0, 0, 0.3));\n",
              "      fill: #FFFFFF;\n",
              "    }\n",
              "  </style>\n",
              "\n",
              "      <script>\n",
              "        const buttonEl =\n",
              "          document.querySelector('#df-28676f1d-c473-4660-b63a-710b9ac2fe83 button.colab-df-convert');\n",
              "        buttonEl.style.display =\n",
              "          google.colab.kernel.accessAllowed ? 'block' : 'none';\n",
              "\n",
              "        async function convertToInteractive(key) {\n",
              "          const element = document.querySelector('#df-28676f1d-c473-4660-b63a-710b9ac2fe83');\n",
              "          const dataTable =\n",
              "            await google.colab.kernel.invokeFunction('convertToInteractive',\n",
              "                                                     [key], {});\n",
              "          if (!dataTable) return;\n",
              "\n",
              "          const docLinkHtml = 'Like what you see? Visit the ' +\n",
              "            '<a target=\"_blank\" href=https://colab.research.google.com/notebooks/data_table.ipynb>data table notebook</a>'\n",
              "            + ' to learn more about interactive tables.';\n",
              "          element.innerHTML = '';\n",
              "          dataTable['output_type'] = 'display_data';\n",
              "          await google.colab.output.renderOutput(dataTable, element);\n",
              "          const docLink = document.createElement('div');\n",
              "          docLink.innerHTML = docLinkHtml;\n",
              "          element.appendChild(docLink);\n",
              "        }\n",
              "      </script>\n",
              "    </div>\n",
              "  </div>\n",
              "  "
            ]
          },
          "metadata": {},
          "execution_count": 35
        }
      ]
    },
    {
      "cell_type": "code",
      "source": [
        "def load_and_prep_image(filename, img_shape=224, scale=True):\n",
        "  \"\"\"\n",
        "  Reads in an image from filename, turns it into a tensor and reshapes into\n",
        "  (224, 224, 3).\n",
        "\n",
        "  Parameters\n",
        "  ----------\n",
        "  filename (str): string filename of target image\n",
        "  img_shape (int): size to resize target image to, default 224\n",
        "  scale (bool): whether to scale pixel values to range(0, 1), default True\n",
        "  \"\"\"\n",
        "  # Read in the image\n",
        "  img = tf.io.read_file(filename)\n",
        "  # Decode it into a tensor\n",
        "  img = tf.io.decode_image(img)\n",
        "  # Resize the image\n",
        "  img = tf.image.resize(img, [img_shape, img_shape])\n",
        "  if scale:\n",
        "    # Rescale the image (get all values between 0 and 1)\n",
        "    return img/255.\n",
        "  else:\n",
        "    return img"
      ],
      "metadata": {
        "id": "P2sJaalAII5k"
      },
      "execution_count": null,
      "outputs": []
    },
    {
      "cell_type": "code",
      "source": [
        "# 5. Visualize some of the most wrong examples\n",
        "images_to_view = 9\n",
        "start_index = 0 # change the start index to view more\n",
        "plt.figure(figsize=(15, 13))\n",
        "for i, row in enumerate(top_100_wrong[start_index:start_index+images_to_view].itertuples()): \n",
        "  plt.subplot(3, 3, i+1)\n",
        "  img = load_and_prep_image(row[1], scale=True)\n",
        "  _, _, _, _, pred_prob, y_true, y_pred, _ = row # only interested in a few parameters of each row\n",
        "  plt.imshow(img)\n",
        "  plt.title(f\"actual: {y_true}, \\npred: {y_pred} \\nprob: {pred_prob:.2f}\")\n",
        "  plt.axis(False)"
      ],
      "metadata": {
        "colab": {
          "base_uri": "https://localhost:8080/",
          "height": 784
        },
        "id": "108jUvs5Hvs5",
        "outputId": "296aa76c-a07f-4a29-cbc9-cbd042d2746c"
      },
      "execution_count": null,
      "outputs": [
        {
          "output_type": "display_data",
          "data": {
            "text/plain": [
              "<Figure size 1080x936 with 9 Axes>"
            ],
            "image/png": "[encoded data removed]"
          },
          "metadata": {
            "needs_background": "light"
          }
        }
      ]
    }
  ]
}