{
  "nbformat": 4,
  "nbformat_minor": 0,
  "metadata": {
    "colab": {
      "provenance": [],
      "machine_shape": "hm"
    },
    "kernelspec": {
      "name": "python3",
      "display_name": "Python 3"
    },
    "language_info": {
      "name": "python"
    },
    "accelerator": "GPU",
    "gpuClass": "premium"
  },
  "cells": [
    {
      "cell_type": "code",
      "execution_count": 1,
      "metadata": {
        "id": "QIXLMTdVEGNC"
      },
      "outputs": [],
      "source": [
        "# The first four functions are helper functions.\n",
        "# Plot the validation and training data separately\n",
        "import matplotlib.pyplot as plt\n",
        "\n",
        "def plot_loss_curves(history):\n",
        "  \"\"\"\n",
        "  Returns separate loss curves for training and validation metrics.\n",
        "  Args:\n",
        "    history: TensorFlow model History object (see: https://www.tensorflow.org/api_docs/python/tf/keras/callbacks/History)\n",
        "  \"\"\" \n",
        "  loss = history.history['loss']\n",
        "  val_loss = history.history['val_loss']\n",
        "\n",
        "  accuracy = history.history['accuracy']\n",
        "  val_accuracy = history.history['val_accuracy']\n",
        "\n",
        "  epochs = range(len(history.history['loss']))\n",
        "\n",
        "  # Plot loss\n",
        "  plt.plot(epochs, loss, label='training_loss')\n",
        "  plt.plot(epochs, val_loss, label='val_loss')\n",
        "  plt.title('Loss')\n",
        "  plt.xlabel('Epochs')\n",
        "  plt.legend()\n",
        "\n",
        "  # Plot accuracy\n",
        "  plt.figure()\n",
        "  plt.plot(epochs, accuracy, label='training_accuracy')\n",
        "  plt.plot(epochs, val_accuracy, label='val_accuracy')\n",
        "  plt.title('Accuracy')\n",
        "  plt.xlabel('Epochs')\n",
        "  plt.legend();"
      ]
    },
    {
      "cell_type": "code",
      "source": [
        "# Compare feature extraction history with fine tuning history.\n",
        "def compare_historys(original_history, new_history, initial_epochs=5):\n",
        "    \"\"\"\n",
        "    Compares two TensorFlow model History objects.\n",
        "    \n",
        "    Args:\n",
        "      original_history: History object from original model (before new_history)\n",
        "      new_history: History object from continued model training (after original_history)\n",
        "      initial_epochs: Number of epochs in original_history (new_history plot starts from here) \n",
        "    \"\"\"\n",
        "    \n",
        "    # Get original history measurements\n",
        "    acc = original_history.history[\"accuracy\"]\n",
        "    loss = original_history.history[\"loss\"]\n",
        "\n",
        "    val_acc = original_history.history[\"val_accuracy\"]\n",
        "    val_loss = original_history.history[\"val_loss\"]\n",
        "\n",
        "    # Combine original history with new history\n",
        "    total_acc = acc + new_history.history[\"accuracy\"]\n",
        "    total_loss = loss + new_history.history[\"loss\"]\n",
        "\n",
        "    total_val_acc = val_acc + new_history.history[\"val_accuracy\"]\n",
        "    total_val_loss = val_loss + new_history.history[\"val_loss\"]\n",
        "\n",
        "    # Make plots\n",
        "    plt.figure(figsize=(8, 8))\n",
        "    plt.subplot(2, 1, 1)\n",
        "    plt.plot(total_acc, label='Training Accuracy')\n",
        "    plt.plot(total_val_acc, label='Validation Accuracy')\n",
        "    plt.plot([initial_epochs-1, initial_epochs-1],\n",
        "              plt.ylim(), label='Start Fine Tuning') # reshift plot around epochs\n",
        "    plt.legend(loc='lower right')\n",
        "    plt.title('Training and Validation Accuracy')\n",
        "\n",
        "    plt.subplot(2, 1, 2)\n",
        "    plt.plot(total_loss, label='Training Loss')\n",
        "    plt.plot(total_val_loss, label='Validation Loss')\n",
        "    plt.plot([initial_epochs-1, initial_epochs-1],\n",
        "              plt.ylim(), label='Start Fine Tuning') # reshift plot around epochs\n",
        "    plt.legend(loc='upper right')\n",
        "    plt.title('Training and Validation Loss')\n",
        "    plt.xlabel('epoch')\n",
        "    plt.show()"
      ],
      "metadata": {
        "id": "y4Ks81IAJxDl"
      },
      "execution_count": 2,
      "outputs": []
    },
    {
      "cell_type": "code",
      "source": [
        "# Walk through an image classification directory and find out how many files (images)\n",
        "# are in each subdirectory.\n",
        "import os\n",
        "\n",
        "def walk_through_dir(dir_path):\n",
        "  \"\"\"\n",
        "  Walks through dir_path returning its contents.\n",
        "  Args:\n",
        "    dir_path (str): target directory\n",
        "  \n",
        "  Returns:\n",
        "    A print out of:\n",
        "      number of subdiretories in dir_path\n",
        "      number of images (files) in each subdirectory\n",
        "      name of each subdirectory\n",
        "  \"\"\"\n",
        "  for dirpath, dirnames, filenames in os.walk(dir_path):\n",
        "    print(f\"There are {len(dirnames)} directories and {len(filenames)} images in '{dirpath}'.\")"
      ],
      "metadata": {
        "id": "q8-AOCY2KcUM"
      },
      "execution_count": 3,
      "outputs": []
    },
    {
      "cell_type": "code",
      "source": [
        "# Creates a TensorBoard callback to store log files, which can be used in TensorFlow Hub.\n",
        "import datetime\n",
        "\n",
        "def create_tensorboard_callback(dir_name, experiment_name):\n",
        "  \"\"\"\n",
        "  Creates a TensorBoard callback instand to store log files.\n",
        "  Stores log files with the filepath:\n",
        "    \"dir_name/experiment_name/current_datetime/\"\n",
        "  Args:\n",
        "    dir_name: target directory to store TensorBoard log files\n",
        "    experiment_name: name of experiment directory (e.g. efficientnet_model_1)\n",
        "  \"\"\"\n",
        "  log_dir = dir_name + \"/\" + experiment_name + \"/\" + datetime.datetime.now().strftime(\"%Y%m%d-%H%M%S\")\n",
        "  tensorboard_callback = tf.keras.callbacks.TensorBoard(\n",
        "      log_dir=log_dir\n",
        "  )\n",
        "  print(f\"Saving TensorBoard log files to: {log_dir}\")\n",
        "  return tensorboard_callback"
      ],
      "metadata": {
        "id": "qsloLSceQqla"
      },
      "execution_count": 4,
      "outputs": []
    },
    {
      "cell_type": "code",
      "source": [
        "# Walk through 1 percent data directory and list number of files\n",
        "walk_through_dir(\"/content/drive/MyDrive/dataset_Transfer_learning(20tau)/dataset_200sr_20tau\")"
      ],
      "metadata": {
        "colab": {
          "base_uri": "https://localhost:8080/"
        },
        "id": "Q8nnTgEK5TOR",
        "outputId": "bf4348a4-a085-408b-9762-952e2a592ff6"
      },
      "execution_count": 5,
      "outputs": [
        {
          "output_type": "stream",
          "name": "stdout",
          "text": [
            "There are 2 directories and 0 images in '/content/drive/MyDrive/dataset_Transfer_learning(20tau)/dataset_200sr_20tau'.\n",
            "There are 10 directories and 0 images in '/content/drive/MyDrive/dataset_Transfer_learning(20tau)/dataset_200sr_20tau/testing_set'.\n",
            "There are 0 directories and 200 images in '/content/drive/MyDrive/dataset_Transfer_learning(20tau)/dataset_200sr_20tau/testing_set/interruptions'.\n",
            "There are 0 directories and 200 images in '/content/drive/MyDrive/dataset_Transfer_learning(20tau)/dataset_200sr_20tau/testing_set/osc_transients'.\n",
            "There are 0 directories and 200 images in '/content/drive/MyDrive/dataset_Transfer_learning(20tau)/dataset_200sr_20tau/testing_set/sags'.\n",
            "There are 0 directories and 200 images in '/content/drive/MyDrive/dataset_Transfer_learning(20tau)/dataset_200sr_20tau/testing_set/swells'.\n",
            "There are 0 directories and 200 images in '/content/drive/MyDrive/dataset_Transfer_learning(20tau)/dataset_200sr_20tau/testing_set/harmonics'.\n",
            "There are 0 directories and 200 images in '/content/drive/MyDrive/dataset_Transfer_learning(20tau)/dataset_200sr_20tau/testing_set/swells_harmonics'.\n",
            "There are 0 directories and 200 images in '/content/drive/MyDrive/dataset_Transfer_learning(20tau)/dataset_200sr_20tau/testing_set/sags_harmonics'.\n",
            "There are 0 directories and 200 images in '/content/drive/MyDrive/dataset_Transfer_learning(20tau)/dataset_200sr_20tau/testing_set/flickers'.\n",
            "There are 0 directories and 200 images in '/content/drive/MyDrive/dataset_Transfer_learning(20tau)/dataset_200sr_20tau/testing_set/spikes'.\n",
            "There are 0 directories and 200 images in '/content/drive/MyDrive/dataset_Transfer_learning(20tau)/dataset_200sr_20tau/testing_set/interruptions_harmonics'.\n",
            "There are 10 directories and 0 images in '/content/drive/MyDrive/dataset_Transfer_learning(20tau)/dataset_200sr_20tau/training_set'.\n",
            "There are 0 directories and 60 images in '/content/drive/MyDrive/dataset_Transfer_learning(20tau)/dataset_200sr_20tau/training_set/sags'.\n",
            "There are 0 directories and 60 images in '/content/drive/MyDrive/dataset_Transfer_learning(20tau)/dataset_200sr_20tau/training_set/interruptions_harmonics'.\n",
            "There are 0 directories and 60 images in '/content/drive/MyDrive/dataset_Transfer_learning(20tau)/dataset_200sr_20tau/training_set/spikes'.\n",
            "There are 0 directories and 60 images in '/content/drive/MyDrive/dataset_Transfer_learning(20tau)/dataset_200sr_20tau/training_set/flickers'.\n",
            "There are 0 directories and 60 images in '/content/drive/MyDrive/dataset_Transfer_learning(20tau)/dataset_200sr_20tau/training_set/interruptions'.\n",
            "There are 0 directories and 60 images in '/content/drive/MyDrive/dataset_Transfer_learning(20tau)/dataset_200sr_20tau/training_set/osc_transients'.\n",
            "There are 0 directories and 60 images in '/content/drive/MyDrive/dataset_Transfer_learning(20tau)/dataset_200sr_20tau/training_set/sags_harmonics'.\n",
            "There are 0 directories and 60 images in '/content/drive/MyDrive/dataset_Transfer_learning(20tau)/dataset_200sr_20tau/training_set/swells_harmonics'.\n",
            "There are 0 directories and 60 images in '/content/drive/MyDrive/dataset_Transfer_learning(20tau)/dataset_200sr_20tau/training_set/swells'.\n",
            "There are 0 directories and 60 images in '/content/drive/MyDrive/dataset_Transfer_learning(20tau)/dataset_200sr_20tau/training_set/harmonics'.\n"
          ]
        }
      ]
    },
    {
      "cell_type": "code",
      "source": [
        "# Prepare dataset\n",
        "train_dir = \"/content/drive/MyDrive/dataset_Transfer_learning(20tau)/dataset_200sr_20tau/training_set\"\n",
        "test_dir = \"/content/drive/MyDrive/dataset_Transfer_learning(20tau)/dataset_200sr_20tau/testing_set\"\n",
        "group_validation_dataset_dir = \"/content/drive/MyDrive/target_dataset_10_classes(Jasper)\""
      ],
      "metadata": {
        "id": "gFcsqR2d5bRl"
      },
      "execution_count": 6,
      "outputs": []
    },
    {
      "cell_type": "code",
      "source": [
        "# Setup data inputs\n",
        "import tensorflow as tf\n",
        "IMG_SIZE = (224, 224)\n",
        "train_data_all_1_percent = tf.keras.preprocessing.image_dataset_from_directory(train_dir,\n",
        "                                        label_mode=\"categorical\",\n",
        "                                        image_size=IMG_SIZE)\n",
        "                                                                                \n",
        "test_data = tf.keras.preprocessing.image_dataset_from_directory(test_dir,\n",
        "                                label_mode=\"categorical\",\n",
        "                                image_size=IMG_SIZE,\n",
        "                                shuffle=False)\n",
        "\n",
        "group_validation_dataset = tf.keras.preprocessing.image_dataset_from_directory(group_validation_dataset_dir,\n",
        "                                label_mode=\"categorical\",\n",
        "                                image_size=IMG_SIZE,\n",
        "                                shuffle=False) # don't shuffle test data for prediction analysis,such as f1 scores."
      ],
      "metadata": {
        "colab": {
          "base_uri": "https://localhost:8080/"
        },
        "id": "rAxbjuPKLoqg",
        "outputId": "71a9283a-a641-432a-f1bb-35516256c03c"
      },
      "execution_count": 7,
      "outputs": [
        {
          "output_type": "stream",
          "name": "stdout",
          "text": [
            "Found 600 files belonging to 10 classes.\n",
            "Found 2000 files belonging to 10 classes.\n",
            "Found 3000 files belonging to 10 classes.\n"
          ]
        }
      ]
    },
    {
      "cell_type": "code",
      "source": [
        "import tensorflow as tf\n",
        "from tensorflow import keras\n",
        "from tensorflow.keras import layers\n",
        "from tensorflow.keras.layers.experimental import preprocessing\n",
        "\n",
        "# Create a data augmentation stage with horizontal flipping, rotations, zooms\n",
        "data_augmentation = keras.Sequential([\n",
        "  preprocessing.RandomFlip(\"horizontal_and_vertical\"),\n",
        "], name =\"data_augmentation\")"
      ],
      "metadata": {
        "id": "GuT5N_OD59Yt"
      },
      "execution_count": 8,
      "outputs": []
    },
    {
      "cell_type": "code",
      "source": [
        "# Setup base model and freeze its layers\n",
        "base_model = tf.keras.applications.EfficientNetB0(include_top=False)\n",
        "base_model.trainable = False\n",
        "\n",
        "# Setup model architecture with trainable top layers\n",
        "inputs = tf.keras.layers.Input(shape=(224, 224, 3), name=\"input_layer\") # shape of input image\n",
        "x = data_augmentation(inputs)\n",
        "x = base_model(x, training=False)\n",
        "x = tf.keras.layers.GlobalAveragePooling2D(name=\"global_average_pooling_layer\")(x)\n",
        "outputs = tf.keras.layers.Dense(10, activation=\"softmax\", name=\"output_layer\")(x)\n",
        "model = tf.keras.Model(inputs, outputs)"
      ],
      "metadata": {
        "id": "D1YnYp49MIlv",
        "colab": {
          "base_uri": "https://localhost:8080/"
        },
        "outputId": "284cfac8-ff94-4d4d-c851-0b053b41f041"
      },
      "execution_count": 9,
      "outputs": [
        {
          "output_type": "stream",
          "name": "stdout",
          "text": [
            "Downloading data from https://storage.googleapis.com/keras-applications/efficientnetb0_notop.h5\n",
            "16705208/16705208 [==============================] - 0s 0us/step\n"
          ]
        }
      ]
    },
    {
      "cell_type": "code",
      "source": [
        "# Compile the model\n",
        "model.compile(loss='categorical_crossentropy',\n",
        "      optimizer=tf.keras.optimizers.Adam(),\n",
        "      metrics=[\"accuracy\"])"
      ],
      "metadata": {
        "id": "5hCwSVlEPDAz"
      },
      "execution_count": 10,
      "outputs": []
    },
    {
      "cell_type": "code",
      "source": [
        "# Fit\n",
        "history_all_classes_1_percent = model.fit(train_data_all_1_percent,\n",
        "                      epochs=10,\n",
        "                      steps_per_epoch=len(train_data_all_1_percent),\n",
        "                      validation_data=test_data,\n",
        "                      validation_steps=int(0.15 * len(test_data)), # evaluate on smaller portion of test data,so epochs are faster.\n",
        "                      callbacks=[create_tensorboard_callback(\"/content/drive/MyDrive/EfficientNetB0_data_agu_models_log\", \"EfficientNetB0_with_data_augmentation_no_fine_tuning_dataset_200sr_20tau(10percent)_random_flip\")]) # save best model weights to file"
      ],
      "metadata": {
        "id": "CG5ZmUG_PGiT",
        "colab": {
          "base_uri": "https://localhost:8080/"
        },
        "outputId": "742534ea-d3bc-46d4-fb83-983a56e84d15"
      },
      "execution_count": 11,
      "outputs": [
        {
          "output_type": "stream",
          "name": "stdout",
          "text": [
            "Saving TensorBoard log files to: /content/drive/MyDrive/EfficientNetB0_data_agu_models_log/EfficientNetB0_with_data_augmentation_no_fine_tuning_dataset_200sr_20tau(10percent)_random_flip/20221029-221702\n",
            "Epoch 1/10\n",
            "19/19 [==============================] - 43s 1s/step - loss: 1.9109 - accuracy: 0.3633 - val_loss: 1.3217 - val_accuracy: 0.5625\n",
            "Epoch 2/10\n",
            "19/19 [==============================] - 3s 163ms/step - loss: 1.2670 - accuracy: 0.6350 - val_loss: 0.9185 - val_accuracy: 0.7812\n",
            "Epoch 3/10\n",
            "19/19 [==============================] - 3s 132ms/step - loss: 0.9698 - accuracy: 0.7750 - val_loss: 0.7046 - val_accuracy: 0.9271\n",
            "Epoch 4/10\n",
            "19/19 [==============================] - 3s 133ms/step - loss: 0.7952 - accuracy: 0.8283 - val_loss: 0.5407 - val_accuracy: 0.8924\n",
            "Epoch 5/10\n",
            "19/19 [==============================] - 3s 128ms/step - loss: 0.6770 - accuracy: 0.8567 - val_loss: 0.5141 - val_accuracy: 0.9132\n",
            "Epoch 6/10\n",
            "19/19 [==============================] - 3s 132ms/step - loss: 0.5888 - accuracy: 0.8767 - val_loss: 0.3892 - val_accuracy: 1.0000\n",
            "Epoch 7/10\n",
            "19/19 [==============================] - 3s 135ms/step - loss: 0.5427 - accuracy: 0.8800 - val_loss: 0.4454 - val_accuracy: 0.9340\n",
            "Epoch 8/10\n",
            "19/19 [==============================] - 3s 134ms/step - loss: 0.4988 - accuracy: 0.8950 - val_loss: 0.3433 - val_accuracy: 0.9583\n",
            "Epoch 9/10\n",
            "19/19 [==============================] - 3s 124ms/step - loss: 0.4545 - accuracy: 0.9067 - val_loss: 0.3004 - val_accuracy: 0.9931\n",
            "Epoch 10/10\n",
            "19/19 [==============================] - 3s 160ms/step - loss: 0.4255 - accuracy: 0.8950 - val_loss: 0.3325 - val_accuracy: 0.9931\n"
          ]
        }
      ]
    },
    {
      "cell_type": "code",
      "source": [
        "# Evaluate model with all test data.\n",
        "results_feature_extraction_model = model.evaluate(test_data)\n",
        "results_feature_extraction_model"
      ],
      "metadata": {
        "id": "NSF3Vk5XNSWf",
        "colab": {
          "base_uri": "https://localhost:8080/"
        },
        "outputId": "7ecafb29-610c-452c-808b-a9ca6adefceb"
      },
      "execution_count": 12,
      "outputs": [
        {
          "output_type": "stream",
          "name": "stdout",
          "text": [
            "63/63 [==============================] - 52s 833ms/step - loss: 0.4068 - accuracy: 0.9135\n"
          ]
        },
        {
          "output_type": "execute_result",
          "data": {
            "text/plain": [
              "[0.40679624676704407, 0.9135000109672546]"
            ]
          },
          "metadata": {},
          "execution_count": 12
        }
      ]
    },
    {
      "cell_type": "code",
      "source": [
        "plot_loss_curves(history_all_classes_1_percent)"
      ],
      "metadata": {
        "id": "H70ZBSWaNav4",
        "colab": {
          "base_uri": "https://localhost:8080/",
          "height": 573
        },
        "outputId": "dabbb383-2ecf-486f-c71b-673bba760d14"
      },
      "execution_count": 13,
      "outputs": [
        {
          "output_type": "display_data",
          "data": {
            "text/plain": [
              "<Figure size 432x288 with 1 Axes>"
            ],
            "image/png": "[encoded data removed]"
          },
          "metadata": {
            "needs_background": "light"
          }
        },
        {
          "output_type": "display_data",
          "data": {
            "text/plain": [
              "<Figure size 432x288 with 1 Axes>"
            ],
            "image/png": "[encoded data removed]"
          },
          "metadata": {
            "needs_background": "light"
          }
        }
      ]
    },
    {
      "cell_type": "code",
      "source": [
        "# What layers in the model are trainable?\n",
        "for layer in model.layers:\n",
        "  print(layer.name, layer.trainable)"
      ],
      "metadata": {
        "id": "1oAGdxKZSttO",
        "colab": {
          "base_uri": "https://localhost:8080/"
        },
        "outputId": "252b6042-6c66-46c3-91b9-6da4daa98afd"
      },
      "execution_count": 14,
      "outputs": [
        {
          "output_type": "stream",
          "name": "stdout",
          "text": [
            "input_layer True\n",
            "data_augmentation True\n",
            "efficientnetb0 False\n",
            "global_average_pooling_layer True\n",
            "output_layer True\n"
          ]
        }
      ]
    },
    {
      "cell_type": "code",
      "source": [
        "# Save model to drive so it can be used later\n",
        "model.save(\"/content/drive/MyDrive/EfficientNetB0_data_agu_saved_models/EfficientNetB0_with_data_augmentation_no_fine_tuning_dataset_200sr_20tau(10percent)_random_flip\")"
      ],
      "metadata": {
        "id": "6VBRUacxSvtE",
        "colab": {
          "base_uri": "https://localhost:8080/"
        },
        "outputId": "5ba90441-26ae-45dc-9014-5f5f827b572e"
      },
      "execution_count": 15,
      "outputs": [
        {
          "output_type": "stream",
          "name": "stderr",
          "text": [
            "WARNING:absl:Found untraced functions such as _jit_compiled_convolution_op, _jit_compiled_convolution_op, _jit_compiled_convolution_op, _jit_compiled_convolution_op, _jit_compiled_convolution_op while saving (showing 5 of 81). These functions will not be directly callable after loading.\n"
          ]
        }
      ]
    },
    {
      "cell_type": "code",
      "source": [
        "# Make predictions with model\n",
        "pred_probs = model.predict(group_validation_dataset, verbose=1) # set verbosity to see how long it will take "
      ],
      "metadata": {
        "id": "xFNWC1DOUB0G",
        "colab": {
          "base_uri": "https://localhost:8080/"
        },
        "outputId": "5ccaaf3e-92b1-4d6d-ccf8-2ad93e98f0dc"
      },
      "execution_count": 16,
      "outputs": [
        {
          "output_type": "stream",
          "name": "stdout",
          "text": [
            "94/94 [==============================] - 96s 1s/step\n"
          ]
        }
      ]
    },
    {
      "cell_type": "code",
      "source": [
        "# How many predictions are there?\n",
        "len(pred_probs)"
      ],
      "metadata": {
        "id": "0P7WYVXZUIWC",
        "colab": {
          "base_uri": "https://localhost:8080/"
        },
        "outputId": "9d040582-84f9-43d4-bb67-1f055160769e"
      },
      "execution_count": 17,
      "outputs": [
        {
          "output_type": "execute_result",
          "data": {
            "text/plain": [
              "3000"
            ]
          },
          "metadata": {},
          "execution_count": 17
        }
      ]
    },
    {
      "cell_type": "code",
      "source": [
        "# We get one prediction probability per class\n",
        "print(f\"Number of prediction probabilities for sample 0: {len(pred_probs[0])}\")\n",
        "print(f\"What prediction probability sample 0 looks like:\\n {pred_probs[0]}\")\n",
        "print(f\"The class with the highest predicted probability by the model for sample 0: {pred_probs[0].argmax()}\")"
      ],
      "metadata": {
        "id": "4_1Mk1qfULjO",
        "colab": {
          "base_uri": "https://localhost:8080/"
        },
        "outputId": "4a2e45fb-1246-449a-ecb3-aa1566a91e13"
      },
      "execution_count": 18,
      "outputs": [
        {
          "output_type": "stream",
          "name": "stdout",
          "text": [
            "Number of prediction probabilities for sample 0: 10\n",
            "What prediction probability sample 0 looks like:\n",
            " [8.2197070e-01 1.4832853e-04 1.8426463e-03 7.8237856e-05 7.8470279e-03\n",
            " 1.4501929e-01 1.4509785e-04 2.0273877e-02 2.2579986e-03 4.1677040e-04]\n",
            "The class with the highest predicted probability by the model for sample 0: 0\n"
          ]
        }
      ]
    },
    {
      "cell_type": "code",
      "source": [
        "# Print some sample predictions to generally see the accuracy of models.\n",
        "print(f\"The class with the highest predicted probability by the model for sample 50: {pred_probs[50].argmax()}\")\n",
        "print(f\"The class with the highest predicted probability by the model for sample 150: {pred_probs[150].argmax()}\")\n",
        "print(f\"The class with the highest predicted probability by the model for sample 250: {pred_probs[250].argmax()}\")\n",
        "print(f\"The class with the highest predicted probability by the model for sample 350: {pred_probs[350].argmax()}\")\n",
        "print(f\"The class with the highest predicted probability by the model for sample 450: {pred_probs[450].argmax()}\")\n",
        "print(f\"The class with the highest predicted probability by the model for sample 550: {pred_probs[550].argmax()}\")\n",
        "print(f\"The class with the highest predicted probability by the model for sample 650: {pred_probs[650].argmax()}\")\n",
        "print(f\"The class with the highest predicted probability by the model for sample 750: {pred_probs[750].argmax()}\")"
      ],
      "metadata": {
        "id": "XRRkv8PzUTTv",
        "colab": {
          "base_uri": "https://localhost:8080/"
        },
        "outputId": "b4e60ba8-4311-4b22-b9bc-e289f0d2646c"
      },
      "execution_count": 19,
      "outputs": [
        {
          "output_type": "stream",
          "name": "stdout",
          "text": [
            "The class with the highest predicted probability by the model for sample 50: 0\n",
            "The class with the highest predicted probability by the model for sample 150: 0\n",
            "The class with the highest predicted probability by the model for sample 250: 0\n",
            "The class with the highest predicted probability by the model for sample 350: 1\n",
            "The class with the highest predicted probability by the model for sample 450: 5\n",
            "The class with the highest predicted probability by the model for sample 550: 1\n",
            "The class with the highest predicted probability by the model for sample 650: 2\n",
            "The class with the highest predicted probability by the model for sample 750: 5\n"
          ]
        }
      ]
    },
    {
      "cell_type": "code",
      "source": [
        "# Due to the nature of the softmax activation function, the sum of each of the prediction probabilities for a single sample will be 1 (or at least very close to 1).\n",
        "pred_probs[0].sum()"
      ],
      "metadata": {
        "id": "ZQREtMnrU4gm",
        "colab": {
          "base_uri": "https://localhost:8080/"
        },
        "outputId": "313668c2-5f6e-4a16-93dc-d51d6073e4a0"
      },
      "execution_count": 20,
      "outputs": [
        {
          "output_type": "execute_result",
          "data": {
            "text/plain": [
              "1.0"
            ]
          },
          "metadata": {},
          "execution_count": 20
        }
      ]
    },
    {
      "cell_type": "code",
      "source": [
        "# Get the class predicitons of each label\n",
        "pred_classes = pred_probs.argmax(axis=1)\n",
        "\n",
        "# How do they look?\n",
        "pred_classes[:10]"
      ],
      "metadata": {
        "id": "gCYeIj6OVB_i",
        "colab": {
          "base_uri": "https://localhost:8080/"
        },
        "outputId": "7f00d556-f330-4f9c-dcee-39895779167b"
      },
      "execution_count": 21,
      "outputs": [
        {
          "output_type": "execute_result",
          "data": {
            "text/plain": [
              "array([0, 0, 0, 0, 0, 0, 0, 0, 0, 0])"
            ]
          },
          "metadata": {},
          "execution_count": 21
        }
      ]
    },
    {
      "cell_type": "code",
      "source": [
        "# To get the test dataset labels we can unravel our test_data object (which is in the form of a tf.data.Dataset) using the unbatch() method.\n",
        "y_labels = []\n",
        "for images, labels in group_validation_dataset.unbatch(): # unbatch the group validation dataset and get images and labels\n",
        "  y_labels.append(labels.numpy().argmax()) # append the index which has the largest value (labels are one-hot)\n",
        "y_labels[:10] # check what they look like (unshuffled)"
      ],
      "metadata": {
        "id": "HYyZjeFNVIaQ",
        "colab": {
          "base_uri": "https://localhost:8080/"
        },
        "outputId": "69271217-937b-48a2-fb37-1dcb1075a741"
      },
      "execution_count": 22,
      "outputs": [
        {
          "output_type": "execute_result",
          "data": {
            "text/plain": [
              "[0, 0, 0, 0, 0, 0, 0, 0, 0, 0]"
            ]
          },
          "metadata": {},
          "execution_count": 22
        }
      ]
    },
    {
      "cell_type": "code",
      "source": [
        "# How many labels are there? (should be the same as how many prediction probabilities we have)\n",
        "len(y_labels)"
      ],
      "metadata": {
        "id": "tlxSc9yTVWEG",
        "colab": {
          "base_uri": "https://localhost:8080/"
        },
        "outputId": "ed763354-7658-4c29-aad1-4eda0b003b48"
      },
      "execution_count": 23,
      "outputs": [
        {
          "output_type": "execute_result",
          "data": {
            "text/plain": [
              "3000"
            ]
          },
          "metadata": {},
          "execution_count": 23
        }
      ]
    },
    {
      "cell_type": "code",
      "source": [
        "# The following confusion matrix code is a remix of Scikit-Learn's plot_confusion_matrix function.\n",
        "# https://scikit-learn.org/stable/modules/generated/sklearn.metrics.plot_confusion_matrix.html\n",
        "import itertools\n",
        "import matplotlib.pyplot as plt\n",
        "import numpy as np\n",
        "from sklearn.metrics import confusion_matrix\n",
        "\n",
        "# Our function needs a different name to sklearn's plot_confusion_matrix\n",
        "def make_confusion_matrix(y_true, y_pred, classes=None, figsize=(10, 10), text_size=15, norm=False, savefig=False): \n",
        "  \"\"\"Makes a labelled confusion matrix comparing predictions and ground truth labels.\n",
        "\n",
        "  If classes is passed, confusion matrix will be labelled, if not, integer class values\n",
        "  will be used.\n",
        "\n",
        "  Args:\n",
        "    y_true: Array of truth labels (must be same shape as y_pred).\n",
        "    y_pred: Array of predicted labels (must be same shape as y_true).\n",
        "    classes: Array of class labels (e.g. string form). If `None`, integer labels are used.\n",
        "    figsize: Size of output figure (default=(10, 10)).\n",
        "    text_size: Size of output figure text (default=15).\n",
        "    norm: normalize values or not (default=False).\n",
        "    savefig: save confusion matrix to file (default=False).\n",
        "  \n",
        "  Returns:\n",
        "    A labelled confusion matrix plot comparing y_true and y_pred.\n",
        "\n",
        "  Example usage:\n",
        "    make_confusion_matrix(y_true=test_labels, # ground truth test labels\n",
        "                          y_pred=y_preds, # predicted labels\n",
        "                          classes=class_names, # array of class label names\n",
        "                          figsize=(15, 15),\n",
        "                          text_size=10)\n",
        "  \"\"\"  \n",
        "  # Create the confustion matrix\n",
        "  cm = confusion_matrix(y_true, y_pred)\n",
        "  cm_norm = cm.astype(\"float\") / cm.sum(axis=1)[:, np.newaxis] # normalize it\n",
        "  n_classes = cm.shape[0] # find the number of classes we're dealing with\n",
        "\n",
        "  \n",
        "  # Plot the figure and make it pretty\n",
        "  fig, ax = plt.subplots(figsize=figsize)\n",
        "  cax = ax.matshow(cm, cmap=plt.cm.Blues) # colors will represent how 'correct' a class is, darker == better\n",
        "  fig.colorbar(cax)\n",
        "\n",
        "  # Are there a list of classes?\n",
        "  if classes:\n",
        "    labels = classes\n",
        "  else:\n",
        "    labels = np.arange(cm.shape[0])\n",
        "  \n",
        "  # Label the axes\n",
        "  ax.set(title=\"Confusion Matrix\",\n",
        "         xlabel=\"Predicted label\",\n",
        "         ylabel=\"True label\",\n",
        "         xticks=np.arange(n_classes), # create enough axis slots for each class\n",
        "         yticks=np.arange(n_classes), \n",
        "         xticklabels=labels, # axes will labeled with class names (if they exist) or ints\n",
        "         yticklabels=labels)\n",
        "  \n",
        "  # Make x-axis labels appear on bottom\n",
        "  ax.xaxis.set_label_position(\"bottom\")\n",
        "  ax.xaxis.tick_bottom()\n",
        "\n",
        "  ### Added: Rotate xticks for readability & increase font size (required due to such a large confusion matrix)\n",
        "  plt.xticks(rotation=70, fontsize=text_size)\n",
        "  plt.yticks(fontsize=text_size)\n",
        "\n",
        "  # Set the threshold for different colors\n",
        "  threshold = (cm.max() + cm.min()) / 2.\n",
        "\n",
        "  # Plot the text on each cell\n",
        "  for i, j in itertools.product(range(cm.shape[0]), range(cm.shape[1])):\n",
        "    if norm:\n",
        "      plt.text(j, i, f\"{cm[i, j]} ({cm_norm[i, j]*100:.1f}%)\",\n",
        "              horizontalalignment=\"center\",\n",
        "              color=\"white\" if cm[i, j] > threshold else \"black\",\n",
        "              size=text_size)\n",
        "    else:\n",
        "      plt.text(j, i, f\"{cm[i, j]}\",\n",
        "              horizontalalignment=\"center\",\n",
        "              color=\"white\" if cm[i, j] > threshold else \"black\",\n",
        "              size=text_size)\n",
        "\n",
        "  # Save the figure to the current working directory\n",
        "  if savefig:\n",
        "    fig.savefig(\"confusion_matrix.png\")"
      ],
      "metadata": {
        "id": "igvDJEVvBO-V"
      },
      "execution_count": 24,
      "outputs": []
    },
    {
      "cell_type": "code",
      "source": [
        "# Get the class names\n",
        "class_names = group_validation_dataset.class_names\n",
        "class_names"
      ],
      "metadata": {
        "id": "_wdVlj-pVpai",
        "colab": {
          "base_uri": "https://localhost:8080/"
        },
        "outputId": "fe3bc5b6-05b1-40f3-e3c2-73c9571d819a"
      },
      "execution_count": 25,
      "outputs": [
        {
          "output_type": "execute_result",
          "data": {
            "text/plain": [
              "['flickers',\n",
              " 'harmonics',\n",
              " 'interruptions',\n",
              " 'interruptions_harmonics',\n",
              " 'osc_transients',\n",
              " 'sags',\n",
              " 'sags_harmonics',\n",
              " 'spikes',\n",
              " 'swells',\n",
              " 'swells_harmonics']"
            ]
          },
          "metadata": {},
          "execution_count": 25
        }
      ]
    },
    {
      "cell_type": "code",
      "source": [
        "# Plot a confusion matrix with all 25250 predictions, ground truth labels and 101 classes\n",
        "make_confusion_matrix(y_true=y_labels,\n",
        "          y_pred=pred_classes,\n",
        "          classes=class_names,\n",
        "          figsize=(10, 10),\n",
        "          text_size=10,\n",
        "          norm=False,\n",
        "          savefig=True)"
      ],
      "metadata": {
        "id": "Q81_7v4pVp3K",
        "colab": {
          "base_uri": "https://localhost:8080/",
          "height": 665
        },
        "outputId": "05044cc0-61e8-411b-acf6-e526283314eb"
      },
      "execution_count": 26,
      "outputs": [
        {
          "output_type": "display_data",
          "data": {
            "text/plain": [
              "<Figure size 720x720 with 2 Axes>"
            ],
            "image/png": "[encoded data removed]"
          },
          "metadata": {
            "needs_background": "light"
          }
        }
      ]
    },
    {
      "cell_type": "code",
      "source": [
        "# Print evaluation results of the model, including macro f1 scores.\n",
        "from sklearn.metrics import classification_report\n",
        "print(classification_report(y_labels, pred_classes, digits=3))"
      ],
      "metadata": {
        "id": "ksMMDN5fVzXg",
        "colab": {
          "base_uri": "https://localhost:8080/"
        },
        "outputId": "231a6668-685d-4108-872b-c97307c05087"
      },
      "execution_count": 27,
      "outputs": [
        {
          "output_type": "stream",
          "name": "stdout",
          "text": [
            "              precision    recall  f1-score   support\n",
            "\n",
            "           0      0.934     0.993     0.963       300\n",
            "           1      0.850     0.720     0.780       300\n",
            "           2      0.913     0.700     0.792       300\n",
            "           3      0.786     0.587     0.672       300\n",
            "           4      0.860     0.980     0.916       300\n",
            "           5      0.782     0.850     0.815       300\n",
            "           6      0.623     0.837     0.714       300\n",
            "           7      0.696     0.970     0.811       300\n",
            "           8      0.986     0.730     0.839       300\n",
            "           9      0.939     0.820     0.875       300\n",
            "\n",
            "    accuracy                          0.819      3000\n",
            "   macro avg      0.837     0.819     0.818      3000\n",
            "weighted avg      0.837     0.819     0.818      3000\n",
            "\n"
          ]
        }
      ]
    }
  ]
}