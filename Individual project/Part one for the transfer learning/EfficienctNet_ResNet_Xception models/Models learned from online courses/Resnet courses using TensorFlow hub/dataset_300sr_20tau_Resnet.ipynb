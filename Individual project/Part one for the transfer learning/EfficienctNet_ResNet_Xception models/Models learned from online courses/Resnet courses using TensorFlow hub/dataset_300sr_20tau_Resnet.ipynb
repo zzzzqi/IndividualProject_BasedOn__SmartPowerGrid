{
  "nbformat": 4,
  "nbformat_minor": 0,
  "metadata": {
    "colab": {
      "provenance": [],
      "collapsed_sections": []
    },
    "kernelspec": {
      "name": "python3",
      "display_name": "Python 3"
    },
    "language_info": {
      "name": "python"
    },
    "accelerator": "GPU",
    "gpuClass": "premium"
  },
  "cells": [
    {
      "cell_type": "code",
      "source": [
        "# How many images in each folder?\n",
        "import os\n",
        "\n",
        "# Walk through 10 percent data directory and list number of files\n",
        "for dirpath, dirnames, filenames in os.walk(\"/content/drive/MyDrive/dataset_Transfer_learning\"):\n",
        "  print(f\"There are {len(dirnames)} directories and {len(filenames)} images in '{dirpath}'.\")"
      ],
      "metadata": {
        "id": "Vy0ku9PYnN9S"
      },
      "execution_count": 3,
      "outputs": []
    },
    {
      "cell_type": "code",
      "source": [
        "from google.colab import drive\n",
        "drive.mount('/content/drive')"
      ],
      "metadata": {
        "colab": {
          "base_uri": "https://localhost:8080/"
        },
        "id": "f8azqtrj1j8h",
        "outputId": "4dfaa7e5-ceb3-45be-cd5a-af198865097d"
      },
      "execution_count": 4,
      "outputs": [
        {
          "output_type": "stream",
          "name": "stdout",
          "text": [
            "Mounted at /content/drive\n"
          ]
        }
      ]
    },
    {
      "cell_type": "code",
      "source": [
        "# Setup data inputs\n",
        "from tensorflow.keras.preprocessing.image import ImageDataGenerator\n",
        "\n",
        "IMAGE_SHAPE = (224, 224)\n",
        "BATCH_SIZE = 32\n",
        "\n",
        "train_dir = \"/content/drive/MyDrive/dataset_Transfer_learning/dataset_300sr_20tau/training_set\"\n",
        "test_dir = \"/content/drive/MyDrive/dataset_Transfer_learning/dataset_300sr_20tau/testing_set\"\n",
        "\n",
        "train_datagen = ImageDataGenerator(rescale=1/255.)\n",
        "test_datagen = ImageDataGenerator(rescale=1/255.)\n",
        "\n",
        "print(\"Training images:\")\n",
        "train_data_10_percent = train_datagen.flow_from_directory(train_dir,\n",
        "                              target_size=IMAGE_SHAPE,\n",
        "                              batch_size=BATCH_SIZE,\n",
        "                              class_mode=\"categorical\")\n",
        "\n",
        "print(\"Testing images:\")\n",
        "test_data = train_datagen.flow_from_directory(test_dir,\n",
        "                        target_size=IMAGE_SHAPE,\n",
        "                        batch_size=BATCH_SIZE,\n",
        "                        class_mode=\"categorical\")"
      ],
      "metadata": {
        "colab": {
          "base_uri": "https://localhost:8080/"
        },
        "id": "n1nHEJlEnnW_",
        "outputId": "62b710fe-eb85-4033-debd-e39f5db5e634"
      },
      "execution_count": 5,
      "outputs": [
        {
          "output_type": "stream",
          "name": "stdout",
          "text": [
            "Training images:\n",
            "Found 600 images belonging to 10 classes.\n",
            "Testing images:\n",
            "Found 2000 images belonging to 10 classes.\n"
          ]
        }
      ]
    },
    {
      "cell_type": "code",
      "source": [
        "# Create tensorboard callback (functionized because need to create a new one for each model)\n",
        "import tensorflow as tf\n",
        "import datetime\n",
        "def create_tensorboard_callback(dir_name, experiment_name):\n",
        "  log_dir = dir_name + \"/\" + experiment_name + \"/\" + datetime.datetime.now().strftime(\"%Y%m%d-%H%M%S\")\n",
        "  tensorboard_callback = tf.keras.callbacks.TensorBoard(\n",
        "      log_dir=log_dir\n",
        "  )\n",
        "  print(f\"Saving TensorBoard log files to: {log_dir}\")\n",
        "  return tensorboard_callback"
      ],
      "metadata": {
        "id": "QAtRW57RoGgC"
      },
      "execution_count": 6,
      "outputs": []
    },
    {
      "cell_type": "code",
      "source": [
        "import tensorflow_hub as hub\n",
        "from tensorflow.keras import layers"
      ],
      "metadata": {
        "id": "rSWKthEjoTFu"
      },
      "execution_count": 7,
      "outputs": []
    },
    {
      "cell_type": "code",
      "source": [
        "# Resnet 50 V2 feature vector\n",
        "resnet_url = \"https://tfhub.dev/google/imagenet/resnet_v2_50/feature_vector/4\"\n",
        "\n",
        "# Original: EfficientNetB0 feature vector (version 1)\n",
        "efficientnet_url = \"https://tfhub.dev/tensorflow/efficientnet/b0/feature-vector/1\"\n",
        "\n",
        "# # New: EfficientNetB0 feature vector (version 2)\n",
        "# efficientnet_url = \"https://tfhub.dev/google/imagenet/efficientnet_v2_imagenet1k_b0/feature_vector/2\""
      ],
      "metadata": {
        "id": "QLE1diJ2oYPg"
      },
      "execution_count": 8,
      "outputs": []
    },
    {
      "cell_type": "code",
      "source": [
        "def create_model(model_url, num_classes=10):\n",
        "  \"\"\"Takes a TensorFlow Hub URL and creates a Keras Sequential model with it.\n",
        "  \n",
        "  Args:\n",
        "    model_url (str): A TensorFlow Hub feature extraction URL.\n",
        "    num_classes (int): Number of output neurons in output layer,\n",
        "      should be equal to number of target classes, default 10.\n",
        "\n",
        "  Returns:\n",
        "    An uncompiled Keras Sequential model with model_url as feature\n",
        "    extractor layer and Dense output layer with num_classes outputs.\n",
        "  \"\"\"\n",
        "  # Download the pretrained model and save it as a Keras layer\n",
        "  feature_extractor_layer = hub.KerasLayer(model_url,\n",
        "                        trainable=False, # freeze the underlying patterns\n",
        "                        name='feature_extraction_layer',\n",
        "                        input_shape=IMAGE_SHAPE+(3,)) # define the input image shape\n",
        "  \n",
        "  # Create our own model\n",
        "  model = tf.keras.Sequential([\n",
        "    feature_extractor_layer, # use the feature extraction layer as the base\n",
        "    layers.Dense(num_classes, activation='softmax', name='output_layer') # create our own output layer      \n",
        "  ])\n",
        "\n",
        "  return model"
      ],
      "metadata": {
        "id": "hVQ1IfGdobhr"
      },
      "execution_count": 9,
      "outputs": []
    },
    {
      "cell_type": "code",
      "source": [
        "# Create model\n",
        "resnet_model = create_model(resnet_url, num_classes=train_data_10_percent.num_classes)\n",
        "\n",
        "# Compile\n",
        "resnet_model.compile(loss='categorical_crossentropy',\n",
        "                     optimizer=tf.keras.optimizers.Adam(),\n",
        "                     metrics=['accuracy'])"
      ],
      "metadata": {
        "id": "VO07gNHFooNg"
      },
      "execution_count": 10,
      "outputs": []
    },
    {
      "cell_type": "code",
      "source": [
        "resnet_model.summary()"
      ],
      "metadata": {
        "colab": {
          "base_uri": "https://localhost:8080/"
        },
        "id": "9Rk6b2-vo1hO",
        "outputId": "d25d2c30-04d1-4891-cbb3-bab0d5e38783"
      },
      "execution_count": 11,
      "outputs": [
        {
          "output_type": "stream",
          "name": "stdout",
          "text": [
            "Model: \"sequential\"\n",
            "_________________________________________________________________\n",
            " Layer (type)                Output Shape              Param #   \n",
            "=================================================================\n",
            " feature_extraction_layer (K  (None, 2048)             23564800  \n",
            " erasLayer)                                                      \n",
            "                                                                 \n",
            " output_layer (Dense)        (None, 10)                20490     \n",
            "                                                                 \n",
            "=================================================================\n",
            "Total params: 23,585,290\n",
            "Trainable params: 20,490\n",
            "Non-trainable params: 23,564,800\n",
            "_________________________________________________________________\n"
          ]
        }
      ]
    },
    {
      "cell_type": "code",
      "source": [
        "# Fit the model\n",
        "resnet_history = resnet_model.fit(train_data_10_percent,\n",
        "                  epochs=10,\n",
        "                  steps_per_epoch=len(train_data_10_percent),\n",
        "                  validation_data=test_data,\n",
        "                  validation_steps=len(test_data),\n",
        "                  # Add TensorBoard callback to model (callbacks parameter takes a list)\n",
        "                  callbacks=[create_tensorboard_callback(dir_name=\"/content/drive/MyDrive/tensorflow_hub\", # save experiment logs here\n",
        "                                      experiment_name=\"dataset_300sr_20tau_resnet50V2\")]) # name of log files"
      ],
      "metadata": {
        "colab": {
          "base_uri": "https://localhost:8080/"
        },
        "id": "jCfGRXuwo3oA",
        "outputId": "f155f830-52a5-4fcf-d214-846857f1b608"
      },
      "execution_count": 12,
      "outputs": [
        {
          "output_type": "stream",
          "name": "stdout",
          "text": [
            "Saving TensorBoard log files to: /content/drive/MyDrive/tensorflow_hub/dataset_300sr_20tau_resnet50V2/20221015-091250\n",
            "Epoch 1/10\n",
            "19/19 [==============================] - 812s 44s/step - loss: 1.4927 - accuracy: 0.5000 - val_loss: 0.9419 - val_accuracy: 0.7575\n",
            "Epoch 2/10\n",
            "19/19 [==============================] - 5s 262ms/step - loss: 0.7051 - accuracy: 0.8317 - val_loss: 0.6134 - val_accuracy: 0.8130\n",
            "Epoch 3/10\n",
            "19/19 [==============================] - 5s 263ms/step - loss: 0.4730 - accuracy: 0.8850 - val_loss: 0.4685 - val_accuracy: 0.8880\n",
            "Epoch 4/10\n",
            "19/19 [==============================] - 5s 259ms/step - loss: 0.3696 - accuracy: 0.9350 - val_loss: 0.3893 - val_accuracy: 0.8955\n",
            "Epoch 5/10\n",
            "19/19 [==============================] - 5s 270ms/step - loss: 0.3000 - accuracy: 0.9467 - val_loss: 0.3512 - val_accuracy: 0.9120\n",
            "Epoch 6/10\n",
            "19/19 [==============================] - 5s 263ms/step - loss: 0.2603 - accuracy: 0.9517 - val_loss: 0.3089 - val_accuracy: 0.9210\n",
            "Epoch 7/10\n",
            "19/19 [==============================] - 5s 263ms/step - loss: 0.2239 - accuracy: 0.9583 - val_loss: 0.2829 - val_accuracy: 0.9365\n",
            "Epoch 8/10\n",
            "19/19 [==============================] - 5s 262ms/step - loss: 0.2045 - accuracy: 0.9683 - val_loss: 0.2587 - val_accuracy: 0.9385\n",
            "Epoch 9/10\n",
            "19/19 [==============================] - 5s 267ms/step - loss: 0.1792 - accuracy: 0.9717 - val_loss: 0.2582 - val_accuracy: 0.9360\n",
            "Epoch 10/10\n",
            "19/19 [==============================] - 5s 265ms/step - loss: 0.1670 - accuracy: 0.9750 - val_loss: 0.2415 - val_accuracy: 0.9345\n"
          ]
        }
      ]
    },
    {
      "cell_type": "code",
      "source": [
        "# If you wanted to, you could really turn this into a helper function to load in with a helper.py script...\n",
        "import matplotlib.pyplot as plt\n",
        "\n",
        "# Plot the validation and training data separately\n",
        "def plot_loss_curves(history):\n",
        "  \"\"\"\n",
        "  Returns separate loss curves for training and validation metrics.\n",
        "  \"\"\" \n",
        "  loss = history.history['loss']\n",
        "  val_loss = history.history['val_loss']\n",
        "\n",
        "  accuracy = history.history['accuracy']\n",
        "  val_accuracy = history.history['val_accuracy']\n",
        "\n",
        "  epochs = range(len(history.history['loss']))\n",
        "\n",
        "  # Plot loss\n",
        "  plt.plot(epochs, loss, label='training_loss')\n",
        "  plt.plot(epochs, val_loss, label='val_loss')\n",
        "  plt.title('Loss')\n",
        "  plt.xlabel('Epochs')\n",
        "  plt.legend()\n",
        "\n",
        "  # Plot accuracy\n",
        "  plt.figure()\n",
        "  plt.plot(epochs, accuracy, label='training_accuracy')\n",
        "  plt.plot(epochs, val_accuracy, label='val_accuracy')\n",
        "  plt.title('Accuracy')\n",
        "  plt.xlabel('Epochs')\n",
        "  plt.legend();"
      ],
      "metadata": {
        "id": "mU_Hggq6tFOy"
      },
      "execution_count": 13,
      "outputs": []
    },
    {
      "cell_type": "code",
      "source": [
        "plot_loss_curves(resnet_history)"
      ],
      "metadata": {
        "colab": {
          "base_uri": "https://localhost:8080/",
          "height": 573
        },
        "id": "Q2ma6NP2tGRW",
        "outputId": "060fc2ec-4f02-4514-a187-6304137cc6b3"
      },
      "execution_count": 14,
      "outputs": [
        {
          "output_type": "display_data",
          "data": {
            "text/plain": [
              "<Figure size 432x288 with 1 Axes>"
            ],
            "image/png": "[encoded data removed]"
          },
          "metadata": {
            "needs_background": "light"
          }
        },
        {
          "output_type": "display_data",
          "data": {
            "text/plain": [
              "<Figure size 432x288 with 1 Axes>"
            ],
            "image/png": "[encoded data removed]"
          },
          "metadata": {
            "needs_background": "light"
          }
        }
      ]
    },
    {
      "cell_type": "code",
      "source": [
        "# Save the trained model\n",
        "model_title = \"Transfer_learning_dataset_300sr_20tau_Resnet.h5\"\n",
        "resnet_model.save('/content/drive/MyDrive/Transfer_learning_saved_models/' + model_title)"
      ],
      "metadata": {
        "id": "tJhyL9P8tbmo"
      },
      "execution_count": 15,
      "outputs": []
    }
  ]
}